{
 "cells": [
  {
   "cell_type": "markdown",
   "metadata": {
    "application/vnd.databricks.v1+cell": {
     "cellMetadata": {},
     "inputWidgets": {},
     "nuid": "28708139-96bb-4901-abd4-0eab89485772",
     "showTitle": false,
     "title": ""
    }
   },
   "source": [
    "\n",
    "## Media Fact Check Bias Database 🗳"
   ]
  },
  {
   "cell_type": "code",
   "execution_count": 0,
   "metadata": {
    "application/vnd.databricks.v1+cell": {
     "cellMetadata": {},
     "inputWidgets": {},
     "nuid": "f282cd3f-4467-4261-9945-306daf8930a7",
     "showTitle": false,
     "title": ""
    }
   },
   "outputs": [],
   "source": []
  }
 ],
 "metadata": {
  "application/vnd.databricks.v1+notebook": {
   "dashboards": [],
   "language": "python",
   "notebookMetadata": {
    "pythonIndentUnit": 4
   },
   "notebookName": "media_fact_check_bias_db_ingest",
   "widgets": {}
  }
 },
 "nbformat": 4,
 "nbformat_minor": 0
}
