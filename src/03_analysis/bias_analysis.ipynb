{
 "cells": [
  {
   "cell_type": "markdown",
   "metadata": {
    "application/vnd.databricks.v1+cell": {
     "cellMetadata": {
      "byteLimit": 2048000,
      "rowLimit": 10000
     },
     "inputWidgets": {},
     "nuid": "d1de9471-43e0-4d85-8143-6d851d43d5ef",
     "showTitle": false,
     "title": ""
    }
   },
   "source": [
    "\n",
    "# Bias Analysis 🤬\n",
    "\n",
    "This notebook conducts a systematic and simple bias analysis using the newly assigned topics from the classifier, together with additional attributes\n",
    "\n",
    "#### Notebook Properties\n",
    "* Upstream Notebook: `src.engineering.topic_processor`\n",
    "* Compute Resources: `32 GB RAM, 4 CPUs`\n",
    "* Last Updated: `Dec 10 2023`\n",
    "\n",
    "#### Data\n",
    "\n",
    "| **Name** | **Type** | **Location Type** | **Description** | **Location** | \n",
    "| --- | --- | --- | --- | --- | \n",
    "| `all_the_news` | `input` | `Delta` | Read full delta dataset of `AllTheNews` | `catalog/simple_topic/all_the_news.delta` | "
   ]
  },
  {
   "cell_type": "code",
   "execution_count": 0,
   "metadata": {
    "application/vnd.databricks.v1+cell": {
     "cellMetadata": {
      "byteLimit": 2048000,
      "rowLimit": 10000
     },
     "inputWidgets": {},
     "nuid": "d042f2d9-9033-403f-b3ad-476fedf16753",
     "showTitle": false,
     "title": ""
    }
   },
   "outputs": [],
   "source": [
    "!python -m spacy download en_core_web_sm -q"
   ]
  },
  {
   "cell_type": "code",
   "execution_count": 0,
   "metadata": {
    "application/vnd.databricks.v1+cell": {
     "cellMetadata": {
      "byteLimit": 2048000,
      "rowLimit": 10000
     },
     "inputWidgets": {},
     "nuid": "5a343116-5877-43b6-8285-f3a5be5340c6",
     "showTitle": false,
     "title": ""
    }
   },
   "outputs": [],
   "source": [
    "import spacy\n",
    "nlp = spacy.load(\"en_core_web_sm\")"
   ]
  },
  {
   "cell_type": "code",
   "execution_count": 0,
   "metadata": {
    "application/vnd.databricks.v1+cell": {
     "cellMetadata": {
      "byteLimit": 2048000,
      "rowLimit": 10000
     },
     "inputWidgets": {},
     "nuid": "976f1eb9-ea01-4e9c-97a4-3b9e2d6d9db3",
     "showTitle": true,
     "title": "Imports"
    }
   },
   "outputs": [],
   "source": [
    "import warnings\n",
    "warnings.filterwarnings(\"ignore\")\n",
    "\n",
    "import pandas as pd\n",
    "import plotly.express as px\n",
    "from tqdm.autonotebook import tqdm\n",
    "from deltalake import DeltaTable\n",
    "from src.utils.io import FileSystemHandler"
   ]
  },
  {
   "cell_type": "code",
   "execution_count": 0,
   "metadata": {
    "application/vnd.databricks.v1+cell": {
     "cellMetadata": {
      "byteLimit": 2048000,
      "rowLimit": 10000
     },
     "inputWidgets": {},
     "nuid": "d6e03d3d-9b96-4cc7-9dd7-da2cd6ef8488",
     "showTitle": true,
     "title": "Settings"
    }
   },
   "outputs": [],
   "source": [
    "pd.set_option(\"display.max_columns\", None)\n",
    "pd.options.plotting.backend = \"plotly\"\n",
    "tqdm.pandas()\n",
    "\n",
    "datafs = FileSystemHandler(\"s3\")"
   ]
  },
  {
   "cell_type": "code",
   "execution_count": 0,
   "metadata": {
    "application/vnd.databricks.v1+cell": {
     "cellMetadata": {
      "byteLimit": 2048000,
      "rowLimit": 10000
     },
     "inputWidgets": {},
     "nuid": "fecfc09d-804f-4caa-8f1b-95c64b7fa03a",
     "showTitle": true,
     "title": "Input Parameters"
    }
   },
   "outputs": [],
   "source": [
    "LIMIT_PARTITIONS: int | None = None\n",
    "\"\"\"An input parameter to limit the number of table partitions to read from delta. Useful to perform EDA on a sample of data.\"\"\"\n",
    "\n",
    "SHUFFLE_PARTITIONS: bool = False\n",
    "\"\"\"Whether to randomize the partitions before reading\"\"\"\n",
    "\n",
    "INPUT_TABLE: str = \"all_the_news\" \n",
    "INPUT_CATALOG: str = \"simple_topic\""
   ]
  },
  {
   "cell_type": "markdown",
   "metadata": {
    "application/vnd.databricks.v1+cell": {
     "cellMetadata": {
      "byteLimit": 2048000,
      "rowLimit": 10000
     },
     "inputWidgets": {},
     "nuid": "f8a32c17-eeb1-4f49-ac35-0a5fb8bc6417",
     "showTitle": false,
     "title": ""
    }
   },
   "source": [
    "\n",
    "### Read Data"
   ]
  },
  {
   "cell_type": "code",
   "execution_count": 0,
   "metadata": {
    "application/vnd.databricks.v1+cell": {
     "cellMetadata": {
      "byteLimit": 2048000,
      "rowLimit": 10000
     },
     "inputWidgets": {},
     "nuid": "79cca854-55c9-4fe7-99e8-03672d8f9429",
     "showTitle": true,
     "title": "Read Input Data"
    }
   },
   "outputs": [],
   "source": [
    "atn_delta_table: DeltaTable = datafs.read_delta(\n",
    "    table=INPUT_TABLE,\n",
    "    catalog_name=INPUT_CATALOG,\n",
    "    as_pandas=False,\n",
    ")\n",
    "\n",
    "df: pd.DataFrame = datafs.read_delta_partitions(\n",
    "    delta_table=atn_delta_table,\n",
    "    N_partitions=LIMIT_PARTITIONS,\n",
    "    shuffle_partitions=SHUFFLE_PARTITIONS,\n",
    ")\n",
    "\n",
    "df[\"date\"] = pd.to_datetime(df[\"date\"])\n",
    "df = df.sort_values(by=[\"date\"])\n",
    "df = df[df.year != 2020]\n",
    "\n",
    "df = df.dropna(subset=[\"section\"])\n",
    "\"\"\"Drop articles without sections for this analysis\"\"\"\n",
    "\n",
    "print(df.shape)\n",
    "df.head()"
   ]
  },
  {
   "cell_type": "code",
   "execution_count": 0,
   "metadata": {
    "application/vnd.databricks.v1+cell": {
     "cellMetadata": {
      "byteLimit": 2048000,
      "rowLimit": 10000
     },
     "inputWidgets": {},
     "nuid": "229d2f85-8e18-4a72-b35d-245ed56392a3",
     "showTitle": false,
     "title": ""
    }
   },
   "outputs": [],
   "source": [
    "topic_sentiment_df = (\n",
    "    df.groupby([\"simple_topic\", \"publication\"])\n",
    "    .agg({\"vader_compound_title\": \"mean\"})\n",
    "    .query(\"vader_compound_title < -0.25  | vader_compound_title > 0.25\")\n",
    "    .reset_index()\n",
    ")\n",
    "topic_sentiment_df.columns = [\"topic\", \"publication\", \"average_sentiment\"]\n",
    "topic_sentiment_df = topic_sentiment_df.sort_values(by=[\"topic\", \"publication\"])\n",
    "topic_sentiment_df"
   ]
  },
  {
   "cell_type": "code",
   "execution_count": 0,
   "metadata": {
    "application/vnd.databricks.v1+cell": {
     "cellMetadata": {
      "byteLimit": 2048000,
      "rowLimit": 10000
     },
     "inputWidgets": {},
     "nuid": "40df4b58-1d1a-47fe-b654-f59a41867c43",
     "showTitle": false,
     "title": ""
    }
   },
   "outputs": [],
   "source": [
    "topic_trend = (\n",
    "    df.groupby([pd.Grouper(key=\"date\", freq=\"M\"), \"simple_topic\"])\n",
    "    .agg({\"article\": \"count\", \"vader_compound_title\": \"mean\"})\n",
    "    .reset_index()\n",
    ")\n",
    "topic_trend.columns = [\"date\", \"simple_topic\", \"article_count\", \"avg_sentiment\"]\n",
    "topic_trend"
   ]
  },
  {
   "cell_type": "code",
   "execution_count": 0,
   "metadata": {
    "application/vnd.databricks.v1+cell": {
     "cellMetadata": {
      "byteLimit": 2048000,
      "rowLimit": 10000
     },
     "inputWidgets": {},
     "nuid": "7c18d057-cab9-4f93-be8b-4c2b3486f942",
     "showTitle": false,
     "title": ""
    }
   },
   "outputs": [],
   "source": [
    "pub_topic_trend = (\n",
    "    df.groupby([pd.Grouper(key=\"date\", freq=\"M\"), \"simple_topic\", \"publication\"])\n",
    "    .agg({\"article\": \"count\", \"vader_compound_title\": \"mean\"})\n",
    "    .reset_index()\n",
    ")\n",
    "pub_topic_trend.columns = [\n",
    "    \"date\",\n",
    "    \"simple_topic\",\n",
    "    \"publication\",\n",
    "    \"article_count\",\n",
    "    \"avg_sentiment\",\n",
    "]\n",
    "pub_topic_trend"
   ]
  },
  {
   "cell_type": "code",
   "execution_count": 0,
   "metadata": {
    "application/vnd.databricks.v1+cell": {
     "cellMetadata": {
      "byteLimit": 2048000,
      "rowLimit": 10000
     },
     "inputWidgets": {},
     "nuid": "5c825b23-3450-4876-8160-8dc249fdd279",
     "showTitle": false,
     "title": ""
    }
   },
   "outputs": [],
   "source": [
    "pub_topic_total = pub_topic_trend.merge(topic_trend, \"left\", [\"date\", \"simple_topic\"])\n",
    "pub_topic_total.columns = [\n",
    "    \"date\",\n",
    "    \"simple_topic\",\n",
    "    \"publication\",\n",
    "    \"published_articles_in_month\",\n",
    "    \"avg_sentiment_of_published_articles\",\n",
    "    \"total_articles_in_month\",\n",
    "    \"avg_sentiment_of_total_articles\",\n",
    "]\n",
    "pub_topic_total"
   ]
  },
  {
   "cell_type": "code",
   "execution_count": 0,
   "metadata": {
    "application/vnd.databricks.v1+cell": {
     "cellMetadata": {
      "byteLimit": 2048000,
      "rowLimit": 10000
     },
     "inputWidgets": {},
     "nuid": "480d955c-f73f-4718-81eb-04923e82359d",
     "showTitle": false,
     "title": ""
    }
   },
   "outputs": [],
   "source": [
    "pub_topic_total[\"published_ratio\"] = (\n",
    "    pub_topic_total[\"published_articles_in_month\"]\n",
    "    / pub_topic_total[\"total_articles_in_month\"]\n",
    ")\n",
    "pub_topic_total[\"sentiment_ratio\"] = (\n",
    "    pub_topic_total[\"avg_sentiment_of_published_articles\"]\n",
    "    - pub_topic_total[\"avg_sentiment_of_total_articles\"]\n",
    ")\n",
    "pub_topic_total"
   ]
  },
  {
   "cell_type": "code",
   "execution_count": 0,
   "metadata": {
    "application/vnd.databricks.v1+cell": {
     "cellMetadata": {
      "byteLimit": 2048000,
      "rowLimit": 10000
     },
     "inputWidgets": {},
     "nuid": "38ec15ac-432e-4b00-b0e8-8803c9686f51",
     "showTitle": false,
     "title": ""
    }
   },
   "outputs": [],
   "source": [
    "df_filtered = pub_topic_total[pub_topic_total[\"published_articles_in_month\"] > 1]\n",
    "\n",
    "df_filtered[\"weighted_published_ratio\"] = (\n",
    "    df_filtered[\"published_articles_in_month\"] * df_filtered[\"published_ratio\"]\n",
    ")\n",
    "weighted_avg_published_ratio = (\n",
    "    df_filtered.groupby([\"publication\", \"simple_topic\", \"date\"])[\n",
    "        \"weighted_published_ratio\"\n",
    "    ].sum()\n",
    "    / df_filtered.groupby([\"publication\", \"simple_topic\", \"date\"])[\n",
    "        \"published_articles_in_month\"\n",
    "    ].sum()\n",
    ")\n",
    "\n",
    "\n",
    "df_filtered[\"weighted_sentiment_ratio\"] = (\n",
    "    df_filtered[\"published_articles_in_month\"] * df_filtered[\"sentiment_ratio\"]\n",
    ")\n",
    "weighted_avg_sentiment_ratio = (\n",
    "    df_filtered.groupby([\"publication\", \"simple_topic\", \"date\"])[\n",
    "        \"weighted_sentiment_ratio\"\n",
    "    ].sum()\n",
    "    / df_filtered.groupby([\"publication\", \"simple_topic\", \"date\"])[\n",
    "        \"published_articles_in_month\"\n",
    "    ].sum()\n",
    ")\n",
    "\n",
    "\n",
    "weighted_avg_df = pd.DataFrame(\n",
    "    {\n",
    "        \"weighted_avg_published_ratio\": weighted_avg_published_ratio,\n",
    "        \"weighted_avg_sentiment_ratio\": weighted_avg_sentiment_ratio,\n",
    "    }\n",
    ").reset_index()\n",
    "\n",
    "\n",
    "weighted_avg_df[\"bias_score\"] = (\n",
    "    weighted_avg_df[\"weighted_avg_published_ratio\"]\n",
    "    + weighted_avg_df[\"weighted_avg_sentiment_ratio\"]\n",
    ") / 2\n",
    "\n",
    "weighted_avg_df.head()"
   ]
  },
  {
   "cell_type": "code",
   "execution_count": 0,
   "metadata": {
    "application/vnd.databricks.v1+cell": {
     "cellMetadata": {
      "byteLimit": 2048000,
      "rowLimit": 10000
     },
     "inputWidgets": {},
     "nuid": "b0ca3b27-be8c-43ba-8779-95ac15f2e00a",
     "showTitle": false,
     "title": ""
    }
   },
   "outputs": [],
   "source": [
    "weighted_avg_df.groupby([\"publication\", pd.Grouper(key=\"date\", freq=\"M\")])[\n",
    "    [\"bias_score\"]\n",
    "].mean().reset_index().plot(\n",
    "    kind=\"line\", x=\"date\", y=\"bias_score\", color=\"publication\", template=\"plotly_white\"\n",
    ")"
   ]
  },
  {
   "cell_type": "code",
   "execution_count": 0,
   "metadata": {
    "application/vnd.databricks.v1+cell": {
     "cellMetadata": {
      "byteLimit": 2048000,
      "rowLimit": 10000
     },
     "inputWidgets": {},
     "nuid": "86132d32-043c-4aa1-8f2c-267318000aad",
     "showTitle": false,
     "title": ""
    }
   },
   "outputs": [],
   "source": []
  }
 ],
 "metadata": {
  "application/vnd.databricks.v1+notebook": {
   "dashboards": [],
   "language": "python",
   "notebookMetadata": {
    "pythonIndentUnit": 4
   },
   "notebookName": "bias_analysis",
   "widgets": {}
  }
 },
 "nbformat": 4,
 "nbformat_minor": 0
}
