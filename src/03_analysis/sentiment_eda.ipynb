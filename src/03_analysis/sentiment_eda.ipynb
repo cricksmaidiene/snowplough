{
 "cells": [
  {
   "cell_type": "markdown",
   "metadata": {
    "application/vnd.databricks.v1+cell": {
     "cellMetadata": {
      "byteLimit": 2048000,
      "rowLimit": 10000
     },
     "inputWidgets": {},
     "nuid": "8ee81553-af0f-4729-9f44-d06fd81482b7",
     "showTitle": false,
     "title": ""
    }
   },
   "source": [
    "\n",
    "# All the News Dataset: Sentiment EDA 🎭\n",
    "\n",
    "This EDA explores the textual representations and scores from word count and sentiment preprocessed data of `AllTheNews`\n",
    "\n",
    "#### Notebook Properties\n",
    "* Upstream Notebook: `src.exploratory_data_analysis.preprocessor_wc_and_sentiments`\n",
    "* Compute Resources: `32 GB RAM, 4 CPUs` (when not performing EDA on a sample of data)\n",
    "* Last Updated: `Nov 23 2023`\n",
    "\n",
    "#### Data\n",
    "\n",
    "| **Name** | **Type** | **Location Type** | **Description** | **Location** | \n",
    "| --- | --- | --- | --- | --- | \n",
    "| `all_the_news_wc_sentiment` | `input` | `Delta` | WC & Sentiment assigned `AllTheNews` data | `catalog/text_eda/all_the_news.delta` | "
   ]
  },
  {
   "cell_type": "code",
   "execution_count": 0,
   "metadata": {
    "application/vnd.databricks.v1+cell": {
     "cellMetadata": {
      "byteLimit": 2048000,
      "rowLimit": 10000
     },
     "inputWidgets": {},
     "nuid": "4edbc1f7-cc6b-4af5-822e-211cc662fb97",
     "showTitle": true,
     "title": "Imports"
    }
   },
   "outputs": [],
   "source": [
    "import warnings\n",
    "warnings.filterwarnings(\"ignore\")\n",
    "\n",
    "import pandas as pd\n",
    "import plotly.express as px\n",
    "from deltalake import DeltaTable\n",
    "from src.utils.io import FileSystemHandler"
   ]
  },
  {
   "cell_type": "code",
   "execution_count": 0,
   "metadata": {
    "application/vnd.databricks.v1+cell": {
     "cellMetadata": {
      "byteLimit": 2048000,
      "rowLimit": 10000
     },
     "inputWidgets": {},
     "nuid": "9659a975-5af8-4e1d-9cec-1e005168afdb",
     "showTitle": true,
     "title": "Settings"
    }
   },
   "outputs": [],
   "source": [
    "pd.set_option(\"display.max_columns\", None)\n",
    "pd.options.plotting.backend = \"plotly\"\n",
    "\n",
    "datafs = FileSystemHandler(\"s3\")"
   ]
  },
  {
   "cell_type": "code",
   "execution_count": 0,
   "metadata": {
    "application/vnd.databricks.v1+cell": {
     "cellMetadata": {
      "byteLimit": 2048000,
      "rowLimit": 10000
     },
     "inputWidgets": {},
     "nuid": "084a2f84-403b-4ec3-8db8-2eff97162177",
     "showTitle": true,
     "title": "Input Parameters"
    }
   },
   "outputs": [],
   "source": [
    "LIMIT_PARTITIONS: int | None = None\n",
    "\"\"\"An input parameter to limit the number of table partitions to read from delta. Useful to perform EDA on a sample of data.\"\"\"\n",
    "\n",
    "SHUFFLE_PARTITIONS: bool = False\n",
    "\"\"\"Whether to randomize the partitions before reading\"\"\"\n",
    "\n",
    "INPUT_TABLE: str = \"all_the_news\" \n",
    "INPUT_CATALOG: str = \"text_eda\""
   ]
  },
  {
   "cell_type": "markdown",
   "metadata": {
    "application/vnd.databricks.v1+cell": {
     "cellMetadata": {
      "byteLimit": 2048000,
      "rowLimit": 10000
     },
     "inputWidgets": {},
     "nuid": "009a98e7-a509-4f13-9c60-dcf1f4548615",
     "showTitle": false,
     "title": ""
    }
   },
   "source": [
    "\n",
    "### Read Data"
   ]
  },
  {
   "cell_type": "code",
   "execution_count": 0,
   "metadata": {
    "application/vnd.databricks.v1+cell": {
     "cellMetadata": {
      "byteLimit": 2048000,
      "rowLimit": 10000
     },
     "inputWidgets": {},
     "nuid": "8d05c234-db60-4acc-9a4a-0d0a80f836a5",
     "showTitle": true,
     "title": "Read Input Data"
    }
   },
   "outputs": [],
   "source": [
    "atn_delta_table: DeltaTable = datafs.read_delta(\n",
    "    table=INPUT_TABLE,\n",
    "    catalog_name=INPUT_CATALOG,\n",
    "    as_pandas=False,\n",
    ")\n",
    "\n",
    "df: pd.DataFrame = datafs.read_delta_partitions(\n",
    "    delta_table=atn_delta_table,\n",
    "    N_partitions=LIMIT_PARTITIONS,\n",
    "    shuffle_partitions=SHUFFLE_PARTITIONS,\n",
    ")\n",
    "\n",
    "df[\"date\"] = pd.to_datetime(df[\"date\"])\n",
    "df = df[df.date < pd.to_datetime(\"2020-04-01\")]\n",
    "df = df.sort_values(by=[\"date\"])\n",
    "\n",
    "print(df.shape)\n",
    "df.head()"
   ]
  },
  {
   "cell_type": "markdown",
   "metadata": {
    "application/vnd.databricks.v1+cell": {
     "cellMetadata": {
      "byteLimit": 2048000,
      "rowLimit": 10000
     },
     "inputWidgets": {},
     "nuid": "72b36836-b7a0-47a9-a0b6-f722b2aa03e8",
     "showTitle": false,
     "title": ""
    }
   },
   "source": [
    "\n",
    "## Sentiment EDA\n",
    "\n",
    "This analysis seeks to answer the following questions:\n",
    "\n",
    "1. By manual inspection, do polarizing articles appear to be biased?\n",
    "2. Do certain authors / publications / sections consistently report with a positive or negative sentiment?\n",
    "3. Is there a sentiment trend over time, and by group?"
   ]
  },
  {
   "cell_type": "markdown",
   "metadata": {
    "application/vnd.databricks.v1+cell": {
     "cellMetadata": {
      "byteLimit": 2048000,
      "rowLimit": 10000
     },
     "inputWidgets": {},
     "nuid": "b5108441-26cf-45f7-ae6f-490a506cd394",
     "showTitle": false,
     "title": ""
    }
   },
   "source": [
    "\n",
    "### Study 1: Sentiment Trends Over Time 📈\n",
    "See bottom of section for observations"
   ]
  },
  {
   "cell_type": "code",
   "execution_count": 0,
   "metadata": {
    "application/vnd.databricks.v1+cell": {
     "cellMetadata": {
      "byteLimit": 2048000,
      "rowLimit": 10000
     },
     "inputWidgets": {},
     "nuid": "ffb2ab9c-9858-419a-8738-981071b8755d",
     "showTitle": true,
     "title": "Title Word Count by Month over Time"
    }
   },
   "outputs": [],
   "source": [
    "title_word_count_t: pd.DataFrame = (\n",
    "    df.groupby(pd.Grouper(key=\"date\", freq=\"M\"))[\"title_word_count\"]\n",
    "    .mean()\n",
    "    .reset_index()\n",
    ")\n",
    "\n",
    "title_word_count_t_fig = px.line(\n",
    "    title_word_count_t,\n",
    "    x=\"date\",\n",
    "    y=\"title_word_count\",\n",
    "    title=\"Title Word Count by Month over Time\",\n",
    "    template=\"plotly_white\",\n",
    "    markers=True,\n",
    "    range_y=[0,20]\n",
    ")\n",
    "\n",
    "title_word_count_t_fig.update_traces(line=dict(color=\"violet\"))\n",
    "title_word_count_t_fig.show()"
   ]
  },
  {
   "cell_type": "code",
   "execution_count": 0,
   "metadata": {
    "application/vnd.databricks.v1+cell": {
     "cellMetadata": {
      "byteLimit": 2048000,
      "rowLimit": 10000
     },
     "inputWidgets": {},
     "nuid": "4a4c4e06-cac8-493e-847a-add17f891d1f",
     "showTitle": true,
     "title": "Article Word Count by Month over Time"
    }
   },
   "outputs": [],
   "source": [
    "article_word_count_t: pd.DataFrame = (\n",
    "    df.groupby(pd.Grouper(key=\"date\", freq=\"M\"))[\"article_word_count\"].mean().reset_index()\n",
    ")\n",
    "\n",
    "article_word_count_t_fig = px.line(\n",
    "    article_word_count_t,\n",
    "    x=\"date\",\n",
    "    y=\"article_word_count\",\n",
    "    title=\"Article Word Count by Month over Time\",\n",
    "    template=\"plotly_white\",\n",
    "    markers=True,\n",
    "    range_y=[0,700]\n",
    ")\n",
    "\n",
    "article_word_count_t_fig.update_traces(line=dict(color=\"violet\"))\n",
    "article_word_count_t_fig.show()"
   ]
  },
  {
   "cell_type": "code",
   "execution_count": 0,
   "metadata": {
    "application/vnd.databricks.v1+cell": {
     "cellMetadata": {
      "byteLimit": 2048000,
      "rowLimit": 10000
     },
     "inputWidgets": {},
     "nuid": "7de38c5c-2837-4d2f-b4a2-04cf34abfec1",
     "showTitle": true,
     "title": "Average Sentiment per Model over Time"
    }
   },
   "outputs": [],
   "source": [
    "t_sentiments = (\n",
    "    df.groupby(pd.Grouper(key=\"date\", freq=\"M\"))\n",
    "    .agg(\n",
    "        {\n",
    "            \"vader_compound_title\": \"mean\",\n",
    "            \"article_textblob_sentiment\": \"mean\",\n",
    "            \"title_textblob_sentiment\": \"mean\",\n",
    "        }\n",
    "    )\n",
    "    .reset_index()\n",
    ")\n",
    "\n",
    "t_sentiments_fig = px.line(\n",
    "    t_sentiments,\n",
    "    x=\"date\",\n",
    "    y=[\n",
    "        \"vader_compound_title\",\n",
    "        \"article_textblob_sentiment\",\n",
    "        \"title_textblob_sentiment\",\n",
    "    ],\n",
    "    labels={\"value\": \"Mean Sentiment Score\", \"variable\": \"Sentiment Type\"},\n",
    "    title=\"Average Sentiment per Model over Time\",\n",
    "    template=\"plotly_white\",\n",
    "    markers=True,\n",
    "    range_y=[-0.5, 0.5],\n",
    ")\n",
    "\n",
    "t_sentiments_fig.show()"
   ]
  },
  {
   "cell_type": "code",
   "execution_count": 0,
   "metadata": {
    "application/vnd.databricks.v1+cell": {
     "cellMetadata": {
      "byteLimit": 2048000,
      "rowLimit": 10000
     },
     "inputWidgets": {},
     "nuid": "e2d975f1-bffd-40cf-a146-ed609a0f1dba",
     "showTitle": true,
     "title": "VADER Title Polarity over Time"
    }
   },
   "outputs": [],
   "source": [
    "vader_title_polarity_t: pd.DataFrame = (\n",
    "    df.groupby(\"date\")[\"vader_compound_title\"].mean().reset_index()\n",
    ")\n",
    "\n",
    "vader_title_polarity_t_fig = px.line(\n",
    "    vader_title_polarity_t,\n",
    "    x=\"date\",\n",
    "    y=\"vader_compound_title\",\n",
    "    title=\"VADER Title Polarity over Time\",\n",
    "    template=\"plotly_white\",\n",
    ")\n",
    "\n",
    "vader_title_polarity_t_fig.update_traces(line=dict(color=\"blue\"))\n",
    "vader_title_polarity_t_fig.show()"
   ]
  },
  {
   "cell_type": "code",
   "execution_count": 0,
   "metadata": {
    "application/vnd.databricks.v1+cell": {
     "cellMetadata": {
      "byteLimit": 2048000,
      "rowLimit": 10000
     },
     "inputWidgets": {},
     "nuid": "f3f76666-3e73-4032-b945-9112f42e4fe9",
     "showTitle": true,
     "title": "Textblob Article Text Polarity over Time"
    }
   },
   "outputs": [],
   "source": [
    "textblob_article_polarity_t: pd.DataFrame = (\n",
    "    df.groupby(\"date\")[\"article_textblob_sentiment\"].mean().reset_index()\n",
    ")\n",
    "\n",
    "textblob_article_polarity_t_fig = px.line(\n",
    "    textblob_article_polarity_t,\n",
    "    x=\"date\",\n",
    "    y=\"article_textblob_sentiment\",\n",
    "    title=\"Textblob Article Polarity over Time\",\n",
    "    template=\"plotly_white\",\n",
    ")\n",
    "\n",
    "textblob_article_polarity_t_fig.update_traces(line=dict(color=\"red\"))\n",
    "textblob_article_polarity_t_fig.show()"
   ]
  },
  {
   "cell_type": "markdown",
   "metadata": {
    "application/vnd.databricks.v1+cell": {
     "cellMetadata": {
      "byteLimit": 2048000,
      "rowLimit": 10000
     },
     "inputWidgets": {},
     "nuid": "4315cea3-488e-46dd-8c3f-ad8ca61dcda8",
     "showTitle": false,
     "title": ""
    }
   },
   "source": [
    "\n",
    "### Study 1: Observations 📝\n",
    "\n",
    "* The following trends are **consistent**:\n",
    "  * Average word counts of title of article over time (generally 9-10 words per title)\n",
    "  * Average sentiment per model over time, meaning choice of model may be irrelevant (with slight variance after Jul 2018)\n",
    "  * Vader polarity of title is also consistent (with marginal dip after Jul 2018)\n",
    "\n",
    "* The following trends are **curious**:\n",
    "  * The average word count per article increases by about 100 words after Jul 2018\n",
    "    * From the summary EDA, we also saw that article count for a year after Jul 2018 was also low -> Denser Articles?\n",
    "  * The volatility of article polarity (textblob) decreases after the Jul 2018 date\n",
    "    * Could the presence of more data in the article make the model outcomes less noisy?"
   ]
  },
  {
   "cell_type": "markdown",
   "metadata": {
    "application/vnd.databricks.v1+cell": {
     "cellMetadata": {
      "byteLimit": 2048000,
      "rowLimit": 10000
     },
     "inputWidgets": {},
     "nuid": "14693582-8aa5-4df6-b286-bfde5dce51c9",
     "showTitle": false,
     "title": ""
    }
   },
   "source": [
    "\n",
    "### Study 2: Inspection of Polarizing Articles 🔍"
   ]
  },
  {
   "cell_type": "markdown",
   "metadata": {
    "application/vnd.databricks.v1+cell": {
     "cellMetadata": {
      "byteLimit": 2048000,
      "rowLimit": 10000
     },
     "inputWidgets": {},
     "nuid": "05fba5d5-747f-438c-8d6b-319bf9b52641",
     "showTitle": false,
     "title": ""
    }
   },
   "source": [
    "\n",
    "## Polarity Filters\n",
    "\n",
    "If a fraction of biased article are assumed to be highly polarized by sentiment, we must consider both highly positive and highly negative sentiments.\n",
    "\n",
    "**Model Filters**:\n",
    "* `vader` probability of positive / negative sentiment of article title > 50%\n",
    "* `vader` probability of neutral sentiment of article < 50%\n",
    "* `textblob` sentiment score > `0.15` or < `-0.15`\n",
    "\n",
    "We establish these filters using two modes: `strict` and `loose`.\n",
    "\n",
    "**Modes**\n",
    "* **Strict**: Articles that both models have full confidence and consensus on sentiments (`AND` condition)\n",
    "* **Loose**: Same filters as `strict`, but if either model's outcomes are met - then it's used (`OR` condition)\n",
    "\n",
    "> The number `0.15` is obtained by eyeballing the time series distributions in study 1"
   ]
  },
  {
   "cell_type": "code",
   "execution_count": 0,
   "metadata": {
    "application/vnd.databricks.v1+cell": {
     "cellMetadata": {
      "byteLimit": 2048000,
      "rowLimit": 10000
     },
     "inputWidgets": {},
     "nuid": "7daa7c1a-6348-4bf7-bac5-bad1dfbf92d1",
     "showTitle": false,
     "title": ""
    }
   },
   "outputs": [],
   "source": [
    "negative_titles_strict: pd.DataFrame = df[\n",
    "    (df.vader_prob_negative_title > 0.5) & (df.vader_prob_neutral_title < 0.5)\n",
    "]\n",
    "\n",
    "positive_titles_strict: pd.DataFrame = df[\n",
    "    (df.vader_prob_positive_title > 0.5) & (df.vader_prob_neutral_title < 0.5)\n",
    "]\n",
    "\n",
    "polarized_titles_strict: pd.DataFrame = pd.concat(\n",
    "    [positive_titles_strict, negative_titles_strict]\n",
    ").reset_index(drop=True)\n",
    "\n",
    "print(polarized_titles_strict.shape)\n",
    "polarized_titles_strict.head()"
   ]
  },
  {
   "cell_type": "code",
   "execution_count": 0,
   "metadata": {
    "application/vnd.databricks.v1+cell": {
     "cellMetadata": {
      "byteLimit": 2048000,
      "rowLimit": 10000
     },
     "inputWidgets": {},
     "nuid": "2e816a92-01d4-405c-acbf-25cbfb9f5beb",
     "showTitle": true,
     "title": "Publications w/ higher ratio of Polarizing Articles"
    }
   },
   "outputs": [],
   "source": [
    "polarized_pubs_dist: pd.Series = polarized_titles_strict.publication.value_counts(\n",
    "    normalize=True\n",
    ")\n",
    "all_pubs_dist: pd.Series = df.publication.value_counts(normalize=True)\n",
    "publication_polarity_diff = pd.concat(\n",
    "    [all_pubs_dist, polarized_pubs_dist], axis=1\n",
    ").reset_index()\n",
    "\n",
    "publication_polarity_diff.columns = [\n",
    "    \"publication\",\n",
    "    \"full_ratio\",\n",
    "    \"polarized_ratio\",\n",
    "]\n",
    "\n",
    "publication_polarity_diff[\"polarity_ratio_increase\"] = (\n",
    "    publication_polarity_diff[\"polarized_ratio\"]\n",
    "    - publication_polarity_diff[\"full_ratio\"]\n",
    ")\n",
    "\n",
    "publication_polarity_diff = publication_polarity_diff.sort_values(\n",
    "    by=\"polarity_ratio_increase\", ascending=False\n",
    ")\n",
    "publication_polarity_diff = publication_polarity_diff.round(2)\n",
    "publication_polarity_diff[publication_polarity_diff.polarity_ratio_increase > 0]"
   ]
  },
  {
   "cell_type": "code",
   "execution_count": 0,
   "metadata": {
    "application/vnd.databricks.v1+cell": {
     "cellMetadata": {
      "byteLimit": 2048000,
      "rowLimit": 10000
     },
     "inputWidgets": {},
     "nuid": "d9a5db1e-bfa1-4e4e-8b1c-b2342dc5d3b9",
     "showTitle": true,
     "title": "Publications that lose ratio by Polarizing Articles"
    }
   },
   "outputs": [],
   "source": [
    "publication_polarity_diff[publication_polarity_diff.polarity_ratio_increase < 0]"
   ]
  },
  {
   "cell_type": "markdown",
   "metadata": {
    "application/vnd.databricks.v1+cell": {
     "cellMetadata": {
      "byteLimit": 2048000,
      "rowLimit": 10000
     },
     "inputWidgets": {},
     "nuid": "8a20a951-b17a-4ab6-919b-0937e91d644f",
     "showTitle": false,
     "title": ""
    }
   },
   "source": [
    "\n",
    "### Study 2: Observations 📝\n",
    "\n",
    "* The highly polarized articles are not evident of any bias purely by sentiment\n",
    "* `Refinery 29`, `CNN`, `People` and `NYTimes` see an increased presence in polarized articles compared to all articles\n",
    "* `Reuters`, `Verge`, `CNBC`, `TechCrunch`, etc. have a lower presence among highly polarized articles, meaning they are likely more neutrally worded publications"
   ]
  },
  {
   "cell_type": "markdown",
   "metadata": {
    "application/vnd.databricks.v1+cell": {
     "cellMetadata": {
      "byteLimit": 2048000,
      "rowLimit": 10000
     },
     "inputWidgets": {},
     "nuid": "0ed6ceb2-5aa2-49d4-8d34-05f076b3af43",
     "showTitle": false,
     "title": ""
    }
   },
   "source": [
    "### Study 3: Sentiment Patterns for Groups 🎙"
   ]
  },
  {
   "cell_type": "code",
   "execution_count": 0,
   "metadata": {
    "application/vnd.databricks.v1+cell": {
     "cellMetadata": {
      "byteLimit": 2048000,
      "rowLimit": 10000
     },
     "inputWidgets": {},
     "nuid": "a71821e8-bf64-4f7a-ba3a-f048dd86c6e1",
     "showTitle": true,
     "title": "Average Sentiments & Error per Publication"
    }
   },
   "outputs": [],
   "source": [
    "agg_pub_sentiment: pd.DataFrame = (\n",
    "    df.groupby(\"publication\")\n",
    "    .agg(\n",
    "        article_mean=(\"article_textblob_sentiment\", \"mean\"),\n",
    "        article_std=(\"article_textblob_sentiment\", \"std\"),\n",
    "        title_mean=(\"vader_compound_title\", \"mean\"),\n",
    "        title_std=(\"vader_compound_title\", \"std\"),\n",
    "    )\n",
    "    .reset_index()\n",
    "    .round(3)\n",
    "    .sort_values(by=\"article_mean\", ascending=False)\n",
    ")\n",
    "\n",
    "print(agg_pub_sentiment.shape)\n",
    "agg_pub_sentiment.head()"
   ]
  },
  {
   "cell_type": "code",
   "execution_count": 0,
   "metadata": {
    "application/vnd.databricks.v1+cell": {
     "cellMetadata": {
      "byteLimit": 2048000,
      "rowLimit": 10000
     },
     "inputWidgets": {},
     "nuid": "6ff5a40c-e9cf-4487-92d0-c4a3499eec17",
     "showTitle": true,
     "title": "Average Article Polarity of Publications vs. Std. Error"
    }
   },
   "outputs": [],
   "source": [
    "px.scatter(\n",
    "    agg_pub_sentiment,\n",
    "    x=\"article_mean\",\n",
    "    y=\"article_std\",\n",
    "    color=\"publication\",\n",
    "    template=\"plotly_white\",\n",
    "    labels=[\"publication\"],\n",
    "    range_x=[0.05,0.2],\n",
    "    range_y=[0.05,0.2],\n",
    "    title=\"Average Article Polarity of Publications vs. Std. Error\"\n",
    ")"
   ]
  },
  {
   "cell_type": "code",
   "execution_count": 0,
   "metadata": {
    "application/vnd.databricks.v1+cell": {
     "cellMetadata": {
      "byteLimit": 2048000,
      "rowLimit": 10000
     },
     "inputWidgets": {},
     "nuid": "52c0d5ee-89c2-449b-96aa-7bff312695b5",
     "showTitle": true,
     "title": "Article Sentiment by Author"
    }
   },
   "outputs": [],
   "source": [
    "agg_author_sentiment: pd.DataFrame = (\n",
    "    df.groupby(\"author\")\n",
    "    .agg(\n",
    "        article_mean=(\"article_textblob_sentiment\", \"mean\"),\n",
    "        article_std=(\"article_textblob_sentiment\", \"std\"),\n",
    "        title_mean=(\"vader_compound_title\", \"mean\"),\n",
    "        title_std=(\"vader_compound_title\", \"std\"),\n",
    "        article_count=(\"article\", \"count\")\n",
    "    )\n",
    "    .reset_index()\n",
    "    .round(3)\n",
    "    .query(\"article_count > 1\")\n",
    "    .sort_values(by=\"article_count\", ascending=False)\n",
    ")\n",
    "\n",
    "print(agg_author_sentiment.shape)\n",
    "agg_author_sentiment.head()"
   ]
  },
  {
   "cell_type": "code",
   "execution_count": 0,
   "metadata": {
    "application/vnd.databricks.v1+cell": {
     "cellMetadata": {
      "byteLimit": 2048000,
      "rowLimit": 10000
     },
     "inputWidgets": {},
     "nuid": "1e6e8651-fd9d-4f0c-8346-fd77daa573fd",
     "showTitle": true,
     "title": "Publication Sentiment over Time"
    }
   },
   "outputs": [],
   "source": [
    "pub_sentiment_by_month: pd.DataFrame = (\n",
    "    df.groupby([pd.Grouper(key=\"date\", freq=\"M\"), \"publication\"])[\n",
    "        \"article_textblob_sentiment\"\n",
    "    ]\n",
    "    .mean()\n",
    "    .round(3)\n",
    "    .unstack(level=\"publication\")\n",
    ")\n",
    "\n",
    "print(pub_sentiment_by_month.shape)\n",
    "pub_sentiment_by_month.head()"
   ]
  },
  {
   "cell_type": "code",
   "execution_count": 0,
   "metadata": {
    "application/vnd.databricks.v1+cell": {
     "cellMetadata": {
      "byteLimit": 2048000,
      "rowLimit": 10000
     },
     "inputWidgets": {},
     "nuid": "2de8ed48-cf1b-48d5-9f68-68120a6a3ec9",
     "showTitle": false,
     "title": ""
    }
   },
   "outputs": [],
   "source": [
    "pub_sentiment_by_month_fig = pub_sentiment_by_month.plot(\n",
    "    kind=\"line\",\n",
    "    template=\"plotly_white\",\n",
    "    title=\"Sentiment over Time by Publication\",\n",
    ")\n",
    "pub_sentiment_by_month_fig.show()"
   ]
  },
  {
   "cell_type": "markdown",
   "metadata": {
    "application/vnd.databricks.v1+cell": {
     "cellMetadata": {
      "byteLimit": 2048000,
      "rowLimit": 10000
     },
     "inputWidgets": {},
     "nuid": "1ccdfe82-00da-4a49-b54d-dc9999737992",
     "showTitle": false,
     "title": ""
    }
   },
   "source": [
    "\n",
    "### Study 3: Observations 📝\n",
    "\n",
    "* `Washington Post`, `TMZ` and `Fox News` have highly volatile polarity over time\n",
    "* The standard deviation of certain authors' article sentiments vary highly"
   ]
  },
  {
   "cell_type": "markdown",
   "metadata": {
    "application/vnd.databricks.v1+cell": {
     "cellMetadata": {
      "byteLimit": 2048000,
      "rowLimit": 10000
     },
     "inputWidgets": {},
     "nuid": "df1215d3-4f8b-4b90-8c94-e62a1fad900f",
     "showTitle": false,
     "title": ""
    }
   },
   "source": [
    "\n",
    "### EDA Bottom Line \n",
    "\n",
    "The final takeaway is that most sentiments across articles, titles and authors tend to be faily neutral and spikes are seen only on occasion if not rarely. Hence, while sentiment analysis could be an important factor to detect bias, we would need other indicators as well."
   ]
  },
  {
   "cell_type": "code",
   "execution_count": 0,
   "metadata": {
    "application/vnd.databricks.v1+cell": {
     "cellMetadata": {
      "byteLimit": 2048000,
      "rowLimit": 10000
     },
     "inputWidgets": {},
     "nuid": "aaf73843-c53e-40ce-bcaf-dff9e7515c15",
     "showTitle": false,
     "title": ""
    }
   },
   "outputs": [],
   "source": []
  }
 ],
 "metadata": {
  "application/vnd.databricks.v1+notebook": {
   "dashboards": [],
   "language": "python",
   "notebookMetadata": {
    "pythonIndentUnit": 4
   },
   "notebookName": "sentiment_eda",
   "widgets": {}
  }
 },
 "nbformat": 4,
 "nbformat_minor": 0
}
