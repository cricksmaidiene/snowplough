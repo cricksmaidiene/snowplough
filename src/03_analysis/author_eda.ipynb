{
 "cells": [
  {
   "cell_type": "markdown",
   "metadata": {
    "application/vnd.databricks.v1+cell": {
     "cellMetadata": {},
     "inputWidgets": {},
     "nuid": "080b0ef1-3ebd-4f98-b39c-406d6ea9cfe7",
     "showTitle": false,
     "title": ""
    }
   },
   "source": [
    "\n",
    "# Authors EDA 🖋\n",
    "\n",
    "This is an exploration of author labels of articles\n",
    "\n",
    "#### Notebook Properties\n",
    "* Upstream Notebook: `src.engineering.word_counts_and_sentiments`\n",
    "* Compute Resources: `32 GB RAM, 4 CPUs` (when not performing EDA on a sample of data)\n",
    "* Last Updated: `Dec 5 2023`\n",
    "\n",
    "#### Data\n",
    "\n",
    "| **Name** | **Type** | **Location Type** | **Description** | **Location** | \n",
    "| --- | --- | --- | --- | --- | \n",
    "| `all_the_news` | `input` | `Delta` | Read full delta dataset of `AllTheNews` | `catalog/text_eda/all_the_news.delta` | "
   ]
  },
  {
   "cell_type": "code",
   "execution_count": 0,
   "metadata": {
    "application/vnd.databricks.v1+cell": {
     "cellMetadata": {
      "byteLimit": 2048000,
      "rowLimit": 10000
     },
     "inputWidgets": {},
     "nuid": "1a51c5ee-3681-443a-a7a8-e42e8e9aea56",
     "showTitle": true,
     "title": "Imports"
    }
   },
   "outputs": [],
   "source": [
    "import warnings\n",
    "warnings.filterwarnings(\"ignore\")\n",
    "\n",
    "import pandas as pd\n",
    "from tqdm.autonotebook import tqdm\n",
    "from deltalake import DeltaTable\n",
    "from src.utils.io import FileSystemHandler"
   ]
  },
  {
   "cell_type": "code",
   "execution_count": 0,
   "metadata": {
    "application/vnd.databricks.v1+cell": {
     "cellMetadata": {
      "byteLimit": 2048000,
      "rowLimit": 10000
     },
     "inputWidgets": {},
     "nuid": "40a34be1-e464-46fe-9a02-1370bcd8c416",
     "showTitle": true,
     "title": "Settings"
    }
   },
   "outputs": [],
   "source": [
    "pd.set_option(\"display.max_columns\", None)\n",
    "pd.options.plotting.backend = \"plotly\"\n",
    "tqdm.pandas()\n",
    "\n",
    "datafs = FileSystemHandler(\"s3\")"
   ]
  },
  {
   "cell_type": "code",
   "execution_count": 0,
   "metadata": {
    "application/vnd.databricks.v1+cell": {
     "cellMetadata": {
      "byteLimit": 2048000,
      "rowLimit": 10000
     },
     "inputWidgets": {},
     "nuid": "13d5c93f-52ab-422e-9de0-11177ad020d2",
     "showTitle": true,
     "title": "Input Parameters"
    }
   },
   "outputs": [],
   "source": [
    "LIMIT_PARTITIONS: int | None = None\n",
    "\"\"\"An input parameter to limit the number of table partitions to read from delta. Useful to perform EDA on a sample of data.\"\"\"\n",
    "\n",
    "SHUFFLE_PARTITIONS: bool = False\n",
    "\"\"\"Whether to randomize the partitions before reading\"\"\"\n",
    "\n",
    "INPUT_TABLE: str = \"all_the_news\" \n",
    "INPUT_CATALOG: str = \"simple_topic\""
   ]
  },
  {
   "cell_type": "markdown",
   "metadata": {
    "application/vnd.databricks.v1+cell": {
     "cellMetadata": {},
     "inputWidgets": {},
     "nuid": "df1511a9-2789-412e-8bc1-e38eab6329d7",
     "showTitle": false,
     "title": ""
    }
   },
   "source": [
    "\n",
    "### Read Data"
   ]
  },
  {
   "cell_type": "code",
   "execution_count": 0,
   "metadata": {
    "application/vnd.databricks.v1+cell": {
     "cellMetadata": {
      "byteLimit": 2048000,
      "rowLimit": 10000
     },
     "inputWidgets": {},
     "nuid": "dc699a1f-efad-482d-891d-30ab60df60a7",
     "showTitle": true,
     "title": "Read Input Data"
    }
   },
   "outputs": [],
   "source": [
    "atn_delta_table: DeltaTable = datafs.read_delta(\n",
    "    table=INPUT_TABLE,\n",
    "    catalog_name=INPUT_CATALOG,\n",
    "    as_pandas=False,\n",
    ")\n",
    "\n",
    "df: pd.DataFrame = datafs.read_delta_partitions(\n",
    "    delta_table=atn_delta_table,\n",
    "    N_partitions=LIMIT_PARTITIONS,\n",
    "    shuffle_partitions=SHUFFLE_PARTITIONS,\n",
    ")\n",
    "\n",
    "df[\"date\"] = pd.to_datetime(df[\"date\"])\n",
    "df = df.sort_values(by=[\"date\"])\n",
    "df = df[df.year != 2020]\n",
    "\n",
    "df = df.dropna(subset=[\"section\"])\n",
    "\"\"\"Drop articles without sections for this analysis\"\"\"\n",
    "\n",
    "print(df.shape)\n",
    "df.head()"
   ]
  },
  {
   "cell_type": "code",
   "execution_count": 0,
   "metadata": {
    "application/vnd.databricks.v1+cell": {
     "cellMetadata": {
      "byteLimit": 2048000,
      "rowLimit": 10000
     },
     "inputWidgets": {},
     "nuid": "ca89c273-9988-4425-986f-6738a3da7680",
     "showTitle": false,
     "title": ""
    }
   },
   "outputs": [],
   "source": [
    "author_article_threshold: int = 100\n",
    "\n",
    "unique_authors = df[\"author\"].dropna().value_counts()\n",
    "unique_authors = unique_authors[\n",
    "    (unique_authors > author_article_threshold)\n",
    "    & ~(\n",
    "        (unique_authors.index.str.contains(\"staff\", case=False))\n",
    "        | (unique_authors.index.str.contains(\"media\", case=False))\n",
    "        | (unique_authors.index.str.contains(\"press\", case=False))\n",
    "        | (unique_authors.index.str.contains(\"network\", case=False))\n",
    "    )\n",
    "]\n",
    "\n",
    "unique_authors = unique_authors.to_frame().reset_index()\n",
    "unique_authors.columns = [\"author\", \"article_count\"]\n",
    "\n",
    "unique_authors = (\n",
    "    unique_authors[\n",
    "        unique_authors.author.apply(\n",
    "            lambda cell: not any(\n",
    "                [p.lower() in cell.lower() for p in df.publication.unique()]\n",
    "            )\n",
    "        )\n",
    "    ]\n",
    "    .reset_index(drop=True)\n",
    "    .drop_duplicates(subset=[\"author\"])\n",
    ")\n",
    "\n",
    "print(unique_authors.shape)\n",
    "unique_authors.head()"
   ]
  },
  {
   "cell_type": "code",
   "execution_count": 0,
   "metadata": {
    "application/vnd.databricks.v1+cell": {
     "cellMetadata": {
      "byteLimit": 2048000,
      "rowLimit": 10000
     },
     "inputWidgets": {},
     "nuid": "36f74880-4785-462d-898c-159b16dd266e",
     "showTitle": false,
     "title": ""
    }
   },
   "outputs": [],
   "source": [
    "author_article_df: pd.DataFrame = (\n",
    "    df[\n",
    "        (df.author.isin(unique_authors.author))\n",
    "        & (df.simple_topic != \"Commercial Business\")\n",
    "    ]\n",
    "    .dropna(subset=[\"author\"])\n",
    "    .dropna(subset=[\"article\"])\n",
    ")\n",
    "\n",
    "print(author_article_df.shape)\n",
    "author_article_df.head()"
   ]
  },
  {
   "cell_type": "code",
   "execution_count": 0,
   "metadata": {
    "application/vnd.databricks.v1+cell": {
     "cellMetadata": {
      "byteLimit": 2048000,
      "rowLimit": 10000
     },
     "inputWidgets": {},
     "nuid": "6279d30e-5c1d-45cc-b7ee-2db99e2333b6",
     "showTitle": false,
     "title": ""
    }
   },
   "outputs": [],
   "source": [
    "author_article_df.groupby([\"publication\"])[\"author\"].nunique().sort_values(\n",
    "    ascending=False\n",
    ").plot(\n",
    "    kind=\"barh\",\n",
    "    template=\"plotly_white\",\n",
    "    title=\"Publication Representation of Articles with Considered Authors\",\n",
    ")"
   ]
  },
  {
   "cell_type": "code",
   "execution_count": 0,
   "metadata": {
    "application/vnd.databricks.v1+cell": {
     "cellMetadata": {
      "byteLimit": 2048000,
      "rowLimit": 10000
     },
     "inputWidgets": {},
     "nuid": "7adee0c4-b0c4-4058-b12e-9efbf058d038",
     "showTitle": false,
     "title": ""
    }
   },
   "outputs": [],
   "source": [
    "author_article_df.groupby([\"simple_topic\"])[\"author\"].nunique().sort_values(\n",
    "    ascending=False\n",
    ").plot(\n",
    "    kind=\"bar\",\n",
    "    template=\"plotly_white\",\n",
    "    title=\"Topic Representation of Articles with Considered Authors\",\n",
    ")"
   ]
  },
  {
   "cell_type": "code",
   "execution_count": 0,
   "metadata": {
    "application/vnd.databricks.v1+cell": {
     "cellMetadata": {
      "byteLimit": 2048000,
      "rowLimit": 10000
     },
     "inputWidgets": {},
     "nuid": "d528ec68-0e80-4b60-b9fd-4cd37d5e76a2",
     "showTitle": false,
     "title": ""
    }
   },
   "outputs": [],
   "source": [
    "author_article_df.groupby([\"author\", \"simple_topic\"])[\n",
    "    [\"article\"]\n",
    "].count().reset_index().plot(\n",
    "    kind=\"bar\",\n",
    "    x=\"simple_topic\",\n",
    "    y=\"article\",\n",
    "    color=\"author\",\n",
    "    template=\"plotly_white\",\n",
    ")"
   ]
  },
  {
   "cell_type": "code",
   "execution_count": 0,
   "metadata": {
    "application/vnd.databricks.v1+cell": {
     "cellMetadata": {
      "byteLimit": 2048000,
      "rowLimit": 10000
     },
     "inputWidgets": {},
     "nuid": "516b17db-b859-467f-9ab6-486abef674a1",
     "showTitle": false,
     "title": ""
    }
   },
   "outputs": [],
   "source": [
    "select_topics: list[str] = [\n",
    "    \"Politics\",\n",
    "    \"Sports\",\n",
    "    \"Technology\",\n",
    "]\n",
    "\n",
    "author_article_df[author_article_df.simple_topic.isin(select_topics)].groupby(\n",
    "    [pd.Grouper(key=\"date\", freq=\"M\"), \"simple_topic\"]\n",
    ")[[\"vader_compound_title\"]].mean().reset_index().plot(\n",
    "    kind=\"line\",\n",
    "    x=\"date\",\n",
    "    y=\"vader_compound_title\",\n",
    "    color=\"simple_topic\",\n",
    "    template=\"plotly_white\",\n",
    "    title=\"Average Sentiments of Topics over Time for Considered Authors\",\n",
    "    markers=True\n",
    ")"
   ]
  },
  {
   "cell_type": "code",
   "execution_count": 0,
   "metadata": {
    "application/vnd.databricks.v1+cell": {
     "cellMetadata": {
      "byteLimit": 2048000,
      "rowLimit": 10000
     },
     "inputWidgets": {},
     "nuid": "6a01f8ae-6d06-4b51-8ee1-d5182376714d",
     "showTitle": false,
     "title": ""
    }
   },
   "outputs": [],
   "source": [
    "select_authors: list[str] = [\n",
    "    \"Dave Quinn\",\n",
    "    \"Alexia Fernandez\",\n",
    "    \"Stephanie Petit\",\n",
    "]\n",
    "\n",
    "author_article_df[author_article_df.author.isin(select_authors)].groupby(\n",
    "    [pd.Grouper(key=\"date\", freq=\"M\"), 'author']\n",
    ").agg({'vader_compound_title': 'mean', 'article': 'count'}).reset_index().plot(\n",
    "    kind=\"line\",\n",
    "    x=\"date\",\n",
    "    y=\"vader_compound_title\",\n",
    "    template=\"plotly_white\",\n",
    "    title=\"Average Sentiments by Author over Time\",\n",
    "    color=\"author\",\n",
    "    markers=True\n",
    ")"
   ]
  },
  {
   "cell_type": "code",
   "execution_count": 0,
   "metadata": {
    "application/vnd.databricks.v1+cell": {
     "cellMetadata": {
      "byteLimit": 2048000,
      "rowLimit": 10000
     },
     "inputWidgets": {},
     "nuid": "46597fc0-7d5b-427a-a7bf-0dcf3453b9f6",
     "showTitle": false,
     "title": ""
    }
   },
   "outputs": [],
   "source": [
    "author_article_df[author_article_df.author.isin(select_authors)].groupby(\n",
    "    [pd.Grouper(key=\"date\", freq=\"M\"), \"simple_topic\"]\n",
    ").agg({'vader_compound_title': 'mean', 'article': 'count'}).reset_index().plot(\n",
    "    kind=\"line\",\n",
    "    x=\"date\",\n",
    "    y=\"vader_compound_title\",\n",
    "    color=\"simple_topic\",\n",
    "    title=\"Average Sentiments by Selected Authors on their Topics over Time\",\n",
    "    template=\"plotly_white\",\n",
    ")"
   ]
  },
  {
   "cell_type": "code",
   "execution_count": 0,
   "metadata": {
    "application/vnd.databricks.v1+cell": {
     "cellMetadata": {},
     "inputWidgets": {},
     "nuid": "e684aead-bbaa-4602-88bb-ba4dad0463a5",
     "showTitle": false,
     "title": ""
    }
   },
   "outputs": [],
   "source": []
  }
 ],
 "metadata": {
  "application/vnd.databricks.v1+notebook": {
   "dashboards": [],
   "language": "python",
   "notebookMetadata": {
    "pythonIndentUnit": 4
   },
   "notebookName": "author_eda",
   "widgets": {}
  }
 },
 "nbformat": 4,
 "nbformat_minor": 0
}
