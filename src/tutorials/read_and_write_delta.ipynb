{
 "cells": [
  {
   "cell_type": "markdown",
   "metadata": {
    "application/vnd.databricks.v1+cell": {
     "cellMetadata": {
      "byteLimit": 2048000,
      "rowLimit": 10000
     },
     "inputWidgets": {},
     "nuid": "dd304f09-8dbf-44ad-8131-67a4f91e3779",
     "showTitle": false,
     "title": ""
    }
   },
   "source": [
    "\n",
    "### Simple Delta I/O Tutorial"
   ]
  },
  {
   "cell_type": "code",
   "execution_count": 0,
   "metadata": {
    "application/vnd.databricks.v1+cell": {
     "cellMetadata": {
      "byteLimit": 2048000,
      "rowLimit": 10000
     },
     "inputWidgets": {},
     "nuid": "916714fd-e07f-436e-995c-56867f57e105",
     "showTitle": false,
     "title": ""
    }
   },
   "outputs": [],
   "source": [
    "import os\n",
    "import pandas as pd\n",
    "from deltalake import DeltaTable, write_deltalake"
   ]
  },
  {
   "cell_type": "code",
   "execution_count": 0,
   "metadata": {
    "application/vnd.databricks.v1+cell": {
     "cellMetadata": {
      "byteLimit": 2048000,
      "rowLimit": 10000
     },
     "inputWidgets": {},
     "nuid": "746832d1-257a-4426-b9fd-3ec788dbc375",
     "showTitle": false,
     "title": ""
    }
   },
   "outputs": [],
   "source": [
    "os.environ[\"AWS_S3_ALLOW_UNSAFE_RENAME\"] = \"True\"\n",
    "\n",
    "SAMPLE_PATH: str = \"s3://snowplough-mids/catalog/test/test_delta.delta\"\n",
    "pd.set_option(\"display.max_columns\", None)"
   ]
  },
  {
   "cell_type": "markdown",
   "metadata": {
    "application/vnd.databricks.v1+cell": {
     "cellMetadata": {
      "byteLimit": 2048000,
      "rowLimit": 10000
     },
     "inputWidgets": {},
     "nuid": "58de9a4e-ef13-400a-a657-0f14f72461cf",
     "showTitle": false,
     "title": ""
    }
   },
   "source": [
    "\n",
    "#### Write a Delta Table to S3"
   ]
  },
  {
   "cell_type": "code",
   "execution_count": 0,
   "metadata": {
    "application/vnd.databricks.v1+cell": {
     "cellMetadata": {
      "byteLimit": 2048000,
      "rowLimit": 10000
     },
     "inputWidgets": {},
     "nuid": "4c13aef4-229a-425a-969e-8a527617747c",
     "showTitle": false,
     "title": ""
    }
   },
   "outputs": [],
   "source": [
    "test_df: pd.DataFrame = pd.DataFrame({\"id\": [1, 2], \"value\": [\"foo\", \"boo\"]})\n",
    "write_deltalake(SAMPLE_PATH, test_df, mode=\"append\")"
   ]
  },
  {
   "cell_type": "markdown",
   "metadata": {
    "application/vnd.databricks.v1+cell": {
     "cellMetadata": {
      "byteLimit": 2048000,
      "rowLimit": 10000
     },
     "inputWidgets": {},
     "nuid": "fca85e67-779d-48fc-af07-4f1996a47325",
     "showTitle": false,
     "title": ""
    }
   },
   "source": [
    "\n",
    "#### Read a Delta table from S3"
   ]
  },
  {
   "cell_type": "code",
   "execution_count": 0,
   "metadata": {
    "application/vnd.databricks.v1+cell": {
     "cellMetadata": {
      "byteLimit": 2048000,
      "rowLimit": 10000
     },
     "inputWidgets": {},
     "nuid": "366f373b-2f63-49fa-8a40-ed8b60ab0d77",
     "showTitle": false,
     "title": ""
    }
   },
   "outputs": [],
   "source": [
    "test_df_out: pd.DataFrame = DeltaTable(SAMPLE_PATH).to_pandas()\n",
    "print(test_df_out.shape)\n",
    "test_df_out.head()"
   ]
  },
  {
   "cell_type": "markdown",
   "metadata": {
    "application/vnd.databricks.v1+cell": {
     "cellMetadata": {
      "byteLimit": 2048000,
      "rowLimit": 10000
     },
     "inputWidgets": {},
     "nuid": "d2bdf8c4-3c73-45d6-b850-b671bafb5c20",
     "showTitle": false,
     "title": ""
    }
   },
   "source": [
    "\n",
    "#### Use `utils.io`"
   ]
  },
  {
   "cell_type": "code",
   "execution_count": 0,
   "metadata": {
    "application/vnd.databricks.v1+cell": {
     "cellMetadata": {
      "byteLimit": 2048000,
      "rowLimit": 10000
     },
     "inputWidgets": {},
     "nuid": "0951ddde-2875-42f3-8758-bc18d236bd4f",
     "showTitle": false,
     "title": ""
    }
   },
   "outputs": [],
   "source": [
    "from src.utils.io import FileSystemHandler\n",
    "\n",
    "s3fs = FileSystemHandler(\"s3\")"
   ]
  },
  {
   "cell_type": "code",
   "execution_count": 0,
   "metadata": {
    "application/vnd.databricks.v1+cell": {
     "cellMetadata": {
      "byteLimit": 2048000,
      "rowLimit": 10000
     },
     "inputWidgets": {},
     "nuid": "0f04c9e8-03db-4d88-8962-4bc77782ec38",
     "showTitle": false,
     "title": ""
    }
   },
   "outputs": [],
   "source": [
    "s3fs.write_delta(test_df, \"test_delta\", \"test\")"
   ]
  },
  {
   "cell_type": "code",
   "execution_count": 0,
   "metadata": {
    "application/vnd.databricks.v1+cell": {
     "cellMetadata": {
      "byteLimit": 2048000,
      "rowLimit": 10000
     },
     "inputWidgets": {},
     "nuid": "6b8737bd-c706-4121-86d9-e3c351478af2",
     "showTitle": false,
     "title": ""
    }
   },
   "outputs": [],
   "source": [
    "s3fs.read_delta(\"test_delta\", \"test\", True).head()"
   ]
  },
  {
   "cell_type": "code",
   "execution_count": 0,
   "metadata": {
    "application/vnd.databricks.v1+cell": {
     "cellMetadata": {
      "byteLimit": 2048000,
      "rowLimit": 10000
     },
     "inputWidgets": {},
     "nuid": "d0f767ad-48f4-48b8-bac5-803fa2d043b6",
     "showTitle": false,
     "title": ""
    }
   },
   "outputs": [],
   "source": [
    "s3fs.listdir(s3fs.CATALOG)"
   ]
  },
  {
   "cell_type": "code",
   "execution_count": 0,
   "metadata": {
    "application/vnd.databricks.v1+cell": {
     "cellMetadata": {
      "byteLimit": 2048000,
      "rowLimit": 10000
     },
     "inputWidgets": {},
     "nuid": "1fb4b643-7b0b-463b-a6f6-89be07735355",
     "showTitle": false,
     "title": ""
    }
   },
   "outputs": [],
   "source": [
    "s3fs.listdir(s3fs.CATALOG + \"/test\")"
   ]
  },
  {
   "cell_type": "code",
   "execution_count": 0,
   "metadata": {
    "application/vnd.databricks.v1+cell": {
     "cellMetadata": {},
     "inputWidgets": {},
     "nuid": "e8e830a4-aede-4661-abe7-77df5b23c7ff",
     "showTitle": false,
     "title": ""
    }
   },
   "outputs": [],
   "source": []
  }
 ],
 "metadata": {
  "application/vnd.databricks.v1+notebook": {
   "dashboards": [],
   "language": "python",
   "notebookMetadata": {
    "pythonIndentUnit": 4
   },
   "notebookName": "read_and_write_delta",
   "widgets": {}
  }
 },
 "nbformat": 4,
 "nbformat_minor": 0
}
