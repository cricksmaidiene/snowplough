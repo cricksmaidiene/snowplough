{
 "cells": [
  {
   "cell_type": "markdown",
   "metadata": {
    "application/vnd.databricks.v1+cell": {
     "cellMetadata": {
      "byteLimit": 2048000,
      "rowLimit": 10000
     },
     "inputWidgets": {},
     "nuid": "6cb1a6f9-b932-4348-859a-b65acb3d2b39",
     "showTitle": false,
     "title": ""
    }
   },
   "source": [
    "\n",
    "# All the News Dataset: Text-Based EDA 🗞\n",
    "\n",
    "This notebook explores the AllTheNews Dataset in the context of comparing the sentiment scores of different sentiment analysis models, and running a full text and topic based EDA.\n",
    "\n",
    "#### Notebook Properties\n",
    "* Upstream Notebook: `src.data_ingestion.all_the_news_v2_ingest`\n",
    "* Compute Resources: `32 GB RAM, 4 CPUs` (when not performing EDA on a sample of data)\n",
    "* Last Updated: `Nov 21 2023`\n",
    "\n",
    "#### Data\n",
    "\n",
    "| **Name** | **Type** | **Location Type** | **Description** | **Location** | \n",
    "| --- | --- | --- | --- | --- | \n",
    "| `all_the_news` | `input` | `Delta` | Read full delta dataset of `AllTheNews` | `catalog/raw/all_the_news.delta` | "
   ]
  },
  {
   "cell_type": "code",
   "execution_count": 0,
   "metadata": {
    "application/vnd.databricks.v1+cell": {
     "cellMetadata": {
      "byteLimit": 2048000,
      "rowLimit": 10000
     },
     "inputWidgets": {},
     "nuid": "0ab6a4ac-0064-4e81-89e8-aa66fcd53d47",
     "showTitle": true,
     "title": "Imports"
    }
   },
   "outputs": [],
   "source": [
    "import warnings\n",
    "warnings.filterwarnings(\"ignore\")\n",
    "\n",
    "import pandas as pd\n",
    "from random import shuffle\n",
    "import contextlib\n",
    "from tqdm.autonotebook import tqdm\n",
    "from vaderSentiment.vaderSentiment import SentimentIntensityAnalyzer\n",
    "from textblob import TextBlob\n",
    "from deltalake import DeltaTable\n",
    "from deltalake.exceptions import TableNotFoundError\n",
    "import pyarrow as pa\n",
    "\n",
    "from src.utils.io import FileSystemHandler, partition_dataframe\n",
    "from src.utils.schemas import all_the_news_raw_schema"
   ]
  },
  {
   "cell_type": "code",
   "execution_count": 0,
   "metadata": {
    "application/vnd.databricks.v1+cell": {
     "cellMetadata": {
      "byteLimit": 2048000,
      "rowLimit": 10000
     },
     "inputWidgets": {},
     "nuid": "13424b40-d3a5-4808-9b0b-9140d3c088da",
     "showTitle": true,
     "title": "Settings"
    }
   },
   "outputs": [],
   "source": [
    "pd.set_option(\"display.max_columns\", None)\n",
    "pd.options.plotting.backend = \"plotly\"\n",
    "tqdm.pandas()\n",
    "\n",
    "datafs = FileSystemHandler(\"s3\")"
   ]
  },
  {
   "cell_type": "code",
   "execution_count": 0,
   "metadata": {
    "application/vnd.databricks.v1+cell": {
     "cellMetadata": {
      "byteLimit": 2048000,
      "rowLimit": 10000
     },
     "inputWidgets": {},
     "nuid": "1bb2bdb2-84b9-41ba-ae70-068c4f1eedd1",
     "showTitle": true,
     "title": "Input Parameters"
    }
   },
   "outputs": [],
   "source": [
    "LIMIT_PARTITIONS: int | None = None\n",
    "\"\"\"An input parameter to limit the number of table partitions to read from delta. Useful to perform EDA on a sample of data.\"\"\"\n",
    "\n",
    "SHUFFLE_PARTITIONS: bool = False\n",
    "\"\"\"Whether to randomize the partitions before reading\"\"\"\n",
    "\n",
    "INPUT_TABLE: str = \"all_the_news\" \n",
    "INPUT_CATALOG: str = \"raw\"\n",
    "\n",
    "OUTPUT_TABLE: str = \"all_the_news\"\n",
    "OUTPUT_CATALOG: str =\"text_eda\""
   ]
  },
  {
   "cell_type": "markdown",
   "metadata": {
    "application/vnd.databricks.v1+cell": {
     "cellMetadata": {
      "byteLimit": 2048000,
      "rowLimit": 10000
     },
     "inputWidgets": {},
     "nuid": "1e2b031f-7015-48bf-a201-b46337e72c13",
     "showTitle": false,
     "title": ""
    }
   },
   "source": [
    "\n",
    "### Read Data"
   ]
  },
  {
   "cell_type": "code",
   "execution_count": 0,
   "metadata": {
    "application/vnd.databricks.v1+cell": {
     "cellMetadata": {
      "byteLimit": 2048000,
      "rowLimit": 10000
     },
     "inputWidgets": {},
     "nuid": "da8a4b4f-0e16-4539-8085-e567d4070fa3",
     "showTitle": true,
     "title": "Read Raw Data"
    }
   },
   "outputs": [],
   "source": [
    "atn_delta_table: DeltaTable = datafs.read_delta(\n",
    "    table=INPUT_TABLE,\n",
    "    catalog_name=INPUT_CATALOG,\n",
    "    as_pandas=False,\n",
    ")\n",
    "\n",
    "df: pd.DataFrame = datafs.read_delta_partitions(\n",
    "    delta_table=atn_delta_table,\n",
    "    N_partitions=LIMIT_PARTITIONS,\n",
    "    shuffle_partitions=SHUFFLE_PARTITIONS,\n",
    ")\n",
    "\n",
    "df[\"date\"] = pd.to_datetime(df[\"date\"])\n",
    "df = df.sort_values(by=[\"date\"])\n",
    "\n",
    "print(df.shape)\n",
    "df.head()"
   ]
  },
  {
   "cell_type": "markdown",
   "metadata": {
    "application/vnd.databricks.v1+cell": {
     "cellMetadata": {
      "byteLimit": 2048000,
      "rowLimit": 10000
     },
     "inputWidgets": {},
     "nuid": "d27283cf-cfa8-4657-8634-28f358b1bd60",
     "showTitle": false,
     "title": ""
    }
   },
   "source": [
    "\n",
    "## Text EDA"
   ]
  },
  {
   "cell_type": "code",
   "execution_count": 0,
   "metadata": {
    "application/vnd.databricks.v1+cell": {
     "cellMetadata": {
      "byteLimit": 2048000,
      "rowLimit": 10000
     },
     "inputWidgets": {},
     "nuid": "a86a8780-fd5a-4a2f-8ce7-bf15d35f40c9",
     "showTitle": true,
     "title": "Character Counts"
    }
   },
   "outputs": [],
   "source": [
    "print(f\"Sum of Character Counts in Article Titles: {df.title.dropna().apply(len).sum():,}\")\n",
    "print(f\"Sum of Character Counts in Article Bodies: {df.article.dropna().apply(len).sum():,}\")"
   ]
  },
  {
   "cell_type": "code",
   "execution_count": 0,
   "metadata": {
    "application/vnd.databricks.v1+cell": {
     "cellMetadata": {
      "byteLimit": 2048000,
      "rowLimit": 10000
     },
     "inputWidgets": {},
     "nuid": "51686e6d-d6fb-4361-83db-1af79b476d58",
     "showTitle": true,
     "title": "Word Count Processor"
    }
   },
   "outputs": [],
   "source": [
    "df[\"title_word_count\"] = df[\"title\"].dropna().apply(lambda x: len(str(x).split()))\n",
    "df[\"article_word_count\"] = df[\"article\"].dropna().progress_apply(lambda x: len(str(x).split()))"
   ]
  },
  {
   "cell_type": "code",
   "execution_count": 0,
   "metadata": {
    "application/vnd.databricks.v1+cell": {
     "cellMetadata": {
      "byteLimit": 2048000,
      "rowLimit": 10000
     },
     "inputWidgets": {},
     "nuid": "d75eb964-157d-4f85-915b-3dddf6330f68",
     "showTitle": true,
     "title": "Word Counts"
    }
   },
   "outputs": [],
   "source": [
    "title_word_count_sum: int = df[\"title_word_count\"].fillna(0).astype(\"int64\").sum()\n",
    "article_word_count_sum: int = df[\"article_word_count\"].fillna(0).astype(\"int64\").sum()\n",
    "print(f\"Word Counts Sum - Article Titles: {title_word_count_sum:,.0f}\")\n",
    "print(f\"Word Counts Sum - Article Bodies: {article_word_count_sum:,.0f}\")\n",
    "\n",
    "title_word_count_mean: int = df[\"title_word_count\"].fillna(0).astype(\"int64\").mean()\n",
    "article_word_count_mean: int = df[\"article_word_count\"].fillna(0).astype(\"int64\").mean()\n",
    "print()\n",
    "print(f\"Word Counts Mean - Article Titles: {title_word_count_mean:,.0f}\")\n",
    "print(f\"Word Counts Mean - Article Bodies: {article_word_count_mean:,.0f}\")\n",
    "\n",
    "title_word_count_med: int = df[\"title_word_count\"].fillna(0).astype(\"int64\").median()\n",
    "art_word_count_med: int = df[\"article_word_count\"].fillna(0).astype(\"int64\").median()\n",
    "print()\n",
    "print(f\"Word Counts Median - Article Titles: {title_word_count_med:,.0f}\")\n",
    "print(f\"Word Counts Median - Article Bodies: {art_word_count_med:,.0f}\")"
   ]
  },
  {
   "cell_type": "markdown",
   "metadata": {
    "application/vnd.databricks.v1+cell": {
     "cellMetadata": {
      "byteLimit": 2048000,
      "rowLimit": 10000
     },
     "inputWidgets": {},
     "nuid": "e0ff81a6-4cfe-4867-a1c3-bf4a7de9922f",
     "showTitle": false,
     "title": ""
    }
   },
   "source": [
    "\n",
    "## Apply Sentiment Models\n",
    "\n",
    "The following sentiment models are used through open-source packages:\n",
    "* `vaderSentiment`\n",
    "* `textblob`\n",
    "\n",
    "This is used to study news sentiments over time, by section and others as an open exploratory data analysis, and also to see differences between model scores for certain articles and why this might be the case. Biased articles might exhibit extreme positive or negative sentiment."
   ]
  },
  {
   "cell_type": "markdown",
   "metadata": {
    "application/vnd.databricks.v1+cell": {
     "cellMetadata": {
      "byteLimit": 2048000,
      "rowLimit": 10000
     },
     "inputWidgets": {},
     "nuid": "d0d779ff-c245-435c-b23b-a17ea7d4856a",
     "showTitle": false,
     "title": ""
    }
   },
   "source": [
    "\n",
    "⚠️ The runtime of this cell is approximately 2 hours for the full volume of data\n",
    "\n",
    "> Consider speed-up by parallel processing and other methods in future. For now, processed data is stored in Delta"
   ]
  },
  {
   "cell_type": "code",
   "execution_count": 0,
   "metadata": {
    "application/vnd.databricks.v1+cell": {
     "cellMetadata": {
      "byteLimit": 2048000,
      "rowLimit": 10000
     },
     "inputWidgets": {},
     "nuid": "787bc0b1-8ec0-4506-a33a-f89608d4d2c9",
     "showTitle": false,
     "title": ""
    }
   },
   "outputs": [],
   "source": [
    "df[\"title_textblob_sentiment\"] = (\n",
    "    df[\"title\"].dropna().progress_apply(lambda text: TextBlob(text).sentiment.polarity)\n",
    ")\n",
    "df[\"article_textblob_sentiment\"] = (\n",
    "    df[\"article\"].dropna().progress_apply(lambda text: TextBlob(text).sentiment.polarity)\n",
    ")"
   ]
  },
  {
   "cell_type": "code",
   "execution_count": 0,
   "metadata": {
    "application/vnd.databricks.v1+cell": {
     "cellMetadata": {},
     "inputWidgets": {},
     "nuid": "36534d26-4b15-45de-8630-d547c8218e24",
     "showTitle": false,
     "title": ""
    }
   },
   "outputs": [],
   "source": [
    "print(df.shape)\n",
    "df.head()"
   ]
  },
  {
   "cell_type": "markdown",
   "metadata": {
    "application/vnd.databricks.v1+cell": {
     "cellMetadata": {},
     "inputWidgets": {},
     "nuid": "690ff19e-0388-42af-b258-27bae638a05a",
     "showTitle": false,
     "title": ""
    }
   },
   "source": [
    "\n",
    "### Save Intermediate Results"
   ]
  },
  {
   "cell_type": "code",
   "execution_count": 0,
   "metadata": {
    "application/vnd.databricks.v1+cell": {
     "cellMetadata": {},
     "inputWidgets": {},
     "nuid": "300ee581-9ba6-4144-8041-d4dc4e07c717",
     "showTitle": false,
     "title": ""
    }
   },
   "outputs": [],
   "source": [
    "with contextlib.suppress(TableNotFoundError):\n",
    "    \"\"\"if table already doesn't exist, then ignore\"\"\"\n",
    "    print(datafs.clear_delta(table=OUTPUT_TABLE, catalog_name=OUTPUT_CATALOG))"
   ]
  },
  {
   "cell_type": "code",
   "execution_count": 0,
   "metadata": {
    "application/vnd.databricks.v1+cell": {
     "cellMetadata": {
      "byteLimit": 2048000,
      "rowLimit": 10000
     },
     "inputWidgets": {},
     "nuid": "5d9f54e7-7c81-4ece-8d79-2865639fd835",
     "showTitle": false,
     "title": ""
    }
   },
   "outputs": [],
   "source": [
    "new_text_fields: list[pa.field] = [\n",
    "    pa.field(\"title_word_count\", pa.int64()),\n",
    "    pa.field(\"article_word_count\", pa.int64()),\n",
    "    pa.field(\"title_textblob_sentiment\", pa.float64()),\n",
    "    pa.field(\"article_textblob_sentiment\", pa.float64()),\n",
    "]\n",
    "\n",
    "all_the_news_text_eda_schema = all_the_news_raw_schema\n",
    "\n",
    "for new_field in new_text_fields:\n",
    "    all_the_news_text_eda_schema = all_the_news_text_eda_schema.append(new_field)\n",
    "\n",
    "all_the_news_text_eda_schema"
   ]
  },
  {
   "cell_type": "code",
   "execution_count": 0,
   "metadata": {
    "application/vnd.databricks.v1+cell": {
     "cellMetadata": {
      "byteLimit": 2048000,
      "rowLimit": 10000
     },
     "inputWidgets": {},
     "nuid": "a58d1c86-d112-4619-9bf3-fdd4c45598e9",
     "showTitle": false,
     "title": ""
    }
   },
   "outputs": [],
   "source": [
    "df_partitions: list[pd.DataFrame] = partition_dataframe(df, N_Partitions=54)\n",
    "\n",
    "for p_df in tqdm(df_partitions):\n",
    "    datafs.write_delta(\n",
    "        dataframe=p_df,\n",
    "        table=OUTPUT_TABLE,\n",
    "        catalog_name=OUTPUT_CATALOG,\n",
    "        schema=all_the_news_text_eda_schema,\n",
    "    )"
   ]
  },
  {
   "cell_type": "code",
   "execution_count": 0,
   "metadata": {
    "application/vnd.databricks.v1+cell": {
     "cellMetadata": {},
     "inputWidgets": {},
     "nuid": "d134c785-9101-40cd-8796-9d1c5a97c9c4",
     "showTitle": false,
     "title": ""
    }
   },
   "outputs": [],
   "source": []
  }
 ],
 "metadata": {
  "application/vnd.databricks.v1+notebook": {
   "dashboards": [],
   "language": "python",
   "notebookMetadata": {
    "pythonIndentUnit": 4
   },
   "notebookName": "all_the_news_text_eda",
   "widgets": {}
  }
 },
 "nbformat": 4,
 "nbformat_minor": 0
}
