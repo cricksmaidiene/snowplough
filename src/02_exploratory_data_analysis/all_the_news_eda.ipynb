{
 "cells": [
  {
   "cell_type": "markdown",
   "metadata": {
    "application/vnd.databricks.v1+cell": {
     "cellMetadata": {
      "byteLimit": 2048000,
      "rowLimit": 10000
     },
     "inputWidgets": {},
     "nuid": "d5c95289-cce5-46a5-bfd5-169ba6e83b29",
     "showTitle": false,
     "title": ""
    }
   },
   "source": [
    "\n",
    "# All the News Dataset: Exploratory Data Analysis 📊\n",
    "\n",
    "This is an exploration of the `AllTheNews` dataset. \n",
    "\n",
    "#### Notebook Properties\n",
    "* Upstream Notebook: `src.data_ingestion.all_the_news_v2_ingest`\n",
    "* Compute Resources: `32 GB RAM, 4 CPUs` (when not performing EDA on a sample of data)\n",
    "* Last Updated: `Nov 21 2023`\n",
    "\n",
    "#### Data\n",
    "\n",
    "| **Name** | **Type** | **Location Type** | **Description** | **Location** | \n",
    "| --- | --- | --- | --- | --- | \n",
    "| `all_the_news` | `input` | `Delta` | Read full delta dataset of `AllTheNews` | `catalog/raw/all_the_news.delta` | "
   ]
  },
  {
   "cell_type": "code",
   "execution_count": 0,
   "metadata": {
    "application/vnd.databricks.v1+cell": {
     "cellMetadata": {
      "byteLimit": 2048000,
      "rowLimit": 10000
     },
     "inputWidgets": {},
     "nuid": "8bf95c3d-fd3b-4c3e-9f83-db6a5448cce2",
     "showTitle": true,
     "title": "Imports"
    }
   },
   "outputs": [],
   "source": [
    "import warnings\n",
    "warnings.filterwarnings(\"ignore\")\n",
    "\n",
    "import pandas as pd\n",
    "from random import shuffle\n",
    "from tqdm.autonotebook import tqdm\n",
    "from src.utils.io import FileSystemHandler"
   ]
  },
  {
   "cell_type": "code",
   "execution_count": 0,
   "metadata": {
    "application/vnd.databricks.v1+cell": {
     "cellMetadata": {
      "byteLimit": 2048000,
      "rowLimit": 10000
     },
     "inputWidgets": {},
     "nuid": "de3d368d-11ae-42ec-a0c0-5cdbba1e779a",
     "showTitle": true,
     "title": "Settings"
    }
   },
   "outputs": [],
   "source": [
    "pd.set_option(\"display.max_columns\", None)\n",
    "pd.options.plotting.backend = \"plotly\"\n",
    "tqdm.pandas()\n",
    "\n",
    "datafs = FileSystemHandler(\"s3\")"
   ]
  },
  {
   "cell_type": "code",
   "execution_count": 0,
   "metadata": {
    "application/vnd.databricks.v1+cell": {
     "cellMetadata": {
      "byteLimit": 2048000,
      "rowLimit": 10000
     },
     "inputWidgets": {},
     "nuid": "556169de-e6fc-45df-ac1e-f69d3c260f15",
     "showTitle": true,
     "title": "Input Parameters"
    }
   },
   "outputs": [],
   "source": [
    "LIMIT_PARTITIONS: int | None = None\n",
    "\"\"\"An input parameter to limit the number of table partitions to read from delta. Useful to perform EDA on a sample of data.\"\"\"\n",
    "SHUFFLE_PARTITIONS: bool = False\n",
    "\"\"\"Whether to randomize the partitions before reading\"\"\"\n",
    "\n",
    "INPUT_TABLE: str = \"all_the_news\" \n",
    "INPUT_CATALOG: str = \"raw\""
   ]
  },
  {
   "cell_type": "markdown",
   "metadata": {
    "application/vnd.databricks.v1+cell": {
     "cellMetadata": {
      "byteLimit": 2048000,
      "rowLimit": 10000
     },
     "inputWidgets": {},
     "nuid": "31e2b021-ec5d-47b9-acf8-90dc151b1f42",
     "showTitle": false,
     "title": ""
    }
   },
   "source": [
    "\n",
    "### Read Data"
   ]
  },
  {
   "cell_type": "code",
   "execution_count": 0,
   "metadata": {
    "application/vnd.databricks.v1+cell": {
     "cellMetadata": {
      "byteLimit": 2048000,
      "rowLimit": 10000
     },
     "inputWidgets": {},
     "nuid": "d755f138-1869-4de3-8555-07e5e690df42",
     "showTitle": true,
     "title": "Get Table Partitions"
    }
   },
   "outputs": [],
   "source": [
    "atn_delta_table = datafs.read_delta(\n",
    "    table=INPUT_TABLE,\n",
    "    catalog_name=INPUT_CATALOG,\n",
    "    as_pandas=False,\n",
    ")\n",
    "\n",
    "atn_partitions = atn_delta_table.file_uris()\n",
    "\n",
    "if SHUFFLE_PARTITIONS:\n",
    "    shuffle(atn_partitions)\n",
    "\n",
    "if LIMIT_PARTITIONS:\n",
    "    atn_partitions = atn_partitions[0: LIMIT_PARTITIONS]\n",
    "\n",
    "print(len(atn_partitions))\n",
    "atn_partitions[0:5]"
   ]
  },
  {
   "cell_type": "code",
   "execution_count": 0,
   "metadata": {
    "application/vnd.databricks.v1+cell": {
     "cellMetadata": {
      "byteLimit": 2048000,
      "rowLimit": 10000
     },
     "inputWidgets": {},
     "nuid": "96b1cc9b-6ce7-47ce-99d4-b84d968f0585",
     "showTitle": true,
     "title": "Read Data"
    }
   },
   "outputs": [],
   "source": [
    "l_dfs: list[pd.DataFrame] = []\n",
    "\n",
    "for p in tqdm(atn_partitions):\n",
    "    df_partition: pd.DataFrame = pd.read_parquet(p)\n",
    "    l_dfs.append(df_partition)"
   ]
  },
  {
   "cell_type": "code",
   "execution_count": 0,
   "metadata": {
    "application/vnd.databricks.v1+cell": {
     "cellMetadata": {
      "byteLimit": 2048000,
      "rowLimit": 10000
     },
     "inputWidgets": {},
     "nuid": "a9751aa8-b293-4644-89c8-465540788251",
     "showTitle": true,
     "title": "Concatenate Partitions"
    }
   },
   "outputs": [],
   "source": [
    "df = pd.concat(l_dfs).reset_index(drop=True)\n",
    "\n",
    "del l_dfs\n",
    "\n",
    "print(df.shape)\n",
    "df.head()"
   ]
  },
  {
   "cell_type": "markdown",
   "metadata": {
    "application/vnd.databricks.v1+cell": {
     "cellMetadata": {
      "byteLimit": 2048000,
      "rowLimit": 10000
     },
     "inputWidgets": {},
     "nuid": "eb38a71d-54a7-423c-981f-3f9077ac6f16",
     "showTitle": false,
     "title": ""
    }
   },
   "source": [
    "\n",
    "## Summary Statistics"
   ]
  },
  {
   "cell_type": "markdown",
   "metadata": {
    "application/vnd.databricks.v1+cell": {
     "cellMetadata": {
      "byteLimit": 2048000,
      "rowLimit": 10000
     },
     "inputWidgets": {},
     "nuid": "0cf83957-82f6-4b5b-9c8f-2514c402f7c6",
     "showTitle": false,
     "title": ""
    }
   },
   "source": [
    "\n",
    "#### Publications\n",
    "* 30% of articles appear from Reuters\n",
    "* NYTimes, CNBC & the Hill together make up an additional 25.5%\n",
    "* Remaining publications make up the latter half of all articles\n",
    "\n",
    "> May have to re-randomize accounting for Reuters' imbalance"
   ]
  },
  {
   "cell_type": "code",
   "execution_count": 0,
   "metadata": {
    "application/vnd.databricks.v1+cell": {
     "cellMetadata": {
      "byteLimit": 2048000,
      "rowLimit": 10000
     },
     "inputWidgets": {},
     "nuid": "a9347b5b-a55e-4a85-b7b1-c8f16d414737",
     "showTitle": true,
     "title": "Article Count by Publication"
    }
   },
   "outputs": [],
   "source": [
    "df.publication.value_counts(normalize=True).plot(\n",
    "    kind=\"bar\",\n",
    "    template=\"plotly_white\",\n",
    "    title=\"Article count by Publication\",\n",
    ")"
   ]
  },
  {
   "cell_type": "markdown",
   "metadata": {
    "application/vnd.databricks.v1+cell": {
     "cellMetadata": {
      "byteLimit": 2048000,
      "rowLimit": 10000
     },
     "inputWidgets": {},
     "nuid": "f0e70f09-3d29-457a-9818-30439391ee30",
     "showTitle": false,
     "title": ""
    }
   },
   "source": [
    "\n",
    "#### Yeary Articles\n",
    "* `2020` article count is significantly lower (by about half) of the other years' articles\n",
    "* Dataset only has articles until `Apr 2 2020`\n",
    "\n",
    "> May have to consider removing `2020` data also due to covid bias"
   ]
  },
  {
   "cell_type": "code",
   "execution_count": 0,
   "metadata": {
    "application/vnd.databricks.v1+cell": {
     "cellMetadata": {
      "byteLimit": 2048000,
      "rowLimit": 10000
     },
     "inputWidgets": {},
     "nuid": "bc6cbd16-a164-4d9c-b5cf-b5e4dd91e76e",
     "showTitle": true,
     "title": "Article Count by Year"
    }
   },
   "outputs": [],
   "source": [
    "print(\"Max Date of all Articles:\", df.date.max())\n",
    "\n",
    "df.year.value_counts().sort_index().plot(\n",
    "    kind=\"line\",\n",
    "    template=\"plotly_white\",\n",
    "    markers=True,\n",
    "    title=\"Article Count by Year over Time\",\n",
    ")"
   ]
  },
  {
   "cell_type": "markdown",
   "metadata": {
    "application/vnd.databricks.v1+cell": {
     "cellMetadata": {
      "byteLimit": 2048000,
      "rowLimit": 10000
     },
     "inputWidgets": {},
     "nuid": "6a37ef84-7c36-48d1-b23a-c79c4acde6d9",
     "showTitle": false,
     "title": ""
    }
   },
   "source": [
    "\n",
    "#### Monthly Articles\n",
    "\n",
    "* Fairly non-volatile and standard distribution of articles over time\n",
    "* COVID era has a spike in total count of articles\n",
    "* `Apr 2020` data is not the true minimum count of articles since data only present for first 2 days"
   ]
  },
  {
   "cell_type": "code",
   "execution_count": 0,
   "metadata": {
    "application/vnd.databricks.v1+cell": {
     "cellMetadata": {
      "byteLimit": 2048000,
      "rowLimit": 10000
     },
     "inputWidgets": {},
     "nuid": "20f9028e-66f6-4648-9add-c2dd10a2f185",
     "showTitle": true,
     "title": "Article Count by Month over Time"
    }
   },
   "outputs": [],
   "source": [
    "df.groupby(pd.Grouper(key=\"date\", freq=\"M\"))[\"article\"].count().plot(\n",
    "    kind=\"line\",\n",
    "    template=\"plotly_white\",\n",
    "    markers=True,\n",
    "    title=\"Article Count by Month over Time\",\n",
    ")"
   ]
  },
  {
   "cell_type": "code",
   "execution_count": 0,
   "metadata": {
    "application/vnd.databricks.v1+cell": {
     "cellMetadata": {
      "byteLimit": 2048000,
      "rowLimit": 10000
     },
     "inputWidgets": {},
     "nuid": "39f0abeb-0600-4f77-9440-4881337879c5",
     "showTitle": true,
     "title": "Articles over Time by Publication"
    }
   },
   "outputs": [],
   "source": [
    "publication_time_grouped = df.groupby(\n",
    "    [pd.Grouper(key=\"date\", freq=\"M\"), \"publication\"]\n",
    ")[\"article\"].count()\n",
    "\n",
    "publication_time_grouped_unstacked = publication_time_grouped.unstack(\n",
    "    level=\"publication\"\n",
    ")\n",
    "\n",
    "pub_mo_fig = publication_time_grouped_unstacked.plot(\n",
    "    kind=\"line\",\n",
    "    template=\"plotly_white\",\n",
    "    markers=False,\n",
    "    title=\"Articles over Time by Publication\",\n",
    ")\n",
    "pub_mo_fig.show()"
   ]
  },
  {
   "cell_type": "code",
   "execution_count": 0,
   "metadata": {
    "application/vnd.databricks.v1+cell": {
     "cellMetadata": {
      "byteLimit": 2048000,
      "rowLimit": 10000
     },
     "inputWidgets": {},
     "nuid": "33729c31-4d87-4a89-8c1c-4f9af77fb4b5",
     "showTitle": true,
     "title": "[Reuters Discounted] Articles over Time by Publication"
    }
   },
   "outputs": [],
   "source": [
    "publication_time_grouped_disc = (\n",
    "    df[df[\"publication\"] != \"Reuters\"]\n",
    "    .groupby([pd.Grouper(key=\"date\", freq=\"M\"), \"publication\"])[\"article\"]\n",
    "    .count()\n",
    ")\n",
    "\n",
    "publication_time_grouped_disc_unstacked = publication_time_grouped_disc.unstack(\n",
    "    level=\"publication\"\n",
    ")\n",
    "\n",
    "pub_mo_disc_fig = publication_time_grouped_disc_unstacked.plot(\n",
    "    kind=\"line\",\n",
    "    template=\"plotly_white\",\n",
    "    markers=False,\n",
    "    title=\"[Reuters Discounted] Articles over Time by Publication\",\n",
    ")\n",
    "pub_mo_disc_fig.show()"
   ]
  },
  {
   "cell_type": "code",
   "execution_count": 0,
   "metadata": {
    "application/vnd.databricks.v1+cell": {
     "cellMetadata": {
      "byteLimit": 2048000,
      "rowLimit": 10000
     },
     "inputWidgets": {},
     "nuid": "27d63029-d3a1-4eb0-8826-0e14703d851d",
     "showTitle": true,
     "title": "Article Count by Day of Month for all Years"
    }
   },
   "outputs": [],
   "source": [
    "df.day.value_counts().sort_index().plot(\n",
    "    kind=\"bar\",\n",
    "    template=\"plotly_white\",\n",
    "    title=\"Article Count by Day of Month for all Years\",\n",
    ")"
   ]
  },
  {
   "cell_type": "code",
   "execution_count": 0,
   "metadata": {
    "application/vnd.databricks.v1+cell": {
     "cellMetadata": {
      "byteLimit": 2048000,
      "rowLimit": 10000
     },
     "inputWidgets": {},
     "nuid": "2ece737e-de3e-4fe9-ae31-93e3b7491047",
     "showTitle": false,
     "title": ""
    }
   },
   "outputs": [],
   "source": [
    "print(f\"Character Count in Article Titles: {df.title.apply(len).sum():,}\")\n",
    "print(f\"Character Counts in Article Bodies: {df.article.apply(len).sum():,}\")"
   ]
  },
  {
   "cell_type": "code",
   "execution_count": 0,
   "metadata": {
    "application/vnd.databricks.v1+cell": {
     "cellMetadata": {
      "byteLimit": 2048000,
      "rowLimit": 10000
     },
     "inputWidgets": {},
     "nuid": "0ae5f771-44d5-4777-abb5-2bc5e8b73e67",
     "showTitle": false,
     "title": ""
    }
   },
   "outputs": [],
   "source": [
    "word_count_titles = df.title.str.split().progress_apply(len).sum()\n",
    "word_count_articles = df.article.str.split().progress_apply(len).sum()\n",
    "\n",
    "print(f\"Word Count in Article Titles: {word_count_titles:,}\")\n",
    "print(f\"Word Count in Article Bodies: {word_count_articles:,}\")"
   ]
  },
  {
   "cell_type": "code",
   "execution_count": 0,
   "metadata": {
    "application/vnd.databricks.v1+cell": {
     "cellMetadata": {
      "byteLimit": 2048000,
      "rowLimit": 10000
     },
     "inputWidgets": {},
     "nuid": "fe52be46-9927-4d6d-8e97-d0118448f167",
     "showTitle": false,
     "title": ""
    }
   },
   "outputs": [],
   "source": []
  }
 ],
 "metadata": {
  "application/vnd.databricks.v1+notebook": {
   "dashboards": [],
   "language": "python",
   "notebookMetadata": {
    "pythonIndentUnit": 4
   },
   "notebookName": "all_the_news_eda",
   "widgets": {}
  }
 },
 "nbformat": 4,
 "nbformat_minor": 0
}
