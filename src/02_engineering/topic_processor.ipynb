{
 "cells": [
  {
   "cell_type": "markdown",
   "metadata": {
    "application/vnd.databricks.v1+cell": {
     "cellMetadata": {
      "byteLimit": 2048000,
      "rowLimit": 10000
     },
     "inputWidgets": {},
     "nuid": "3e8947ff-d194-44e4-b561-2bd9d6b09f79",
     "showTitle": false,
     "title": ""
    }
   },
   "source": [
    "\n",
    "# Topics Processor 💬\n",
    "\n",
    "This notebook cleans up and assigns more well structured topics to news sections. \n",
    "\n",
    "#### Notebook Properties\n",
    "* Upstream Notebook: `src.engineering.word_counts_and_sentiments`\n",
    "* Compute Resources: `32 GB RAM, 4 CPUs` (when not performing EDA on a sample of data)\n",
    "* Last Updated: `Dec 2 2023`\n",
    "\n",
    "#### Data\n",
    "\n",
    "| **Name** | **Type** | **Location Type** | **Description** | **Location** | \n",
    "| --- | --- | --- | --- | --- | \n",
    "| `all_the_news` | `input` | `Delta` | Read full delta dataset of `AllTheNews` | `catalog/text_eda/all_the_news.delta` | "
   ]
  },
  {
   "cell_type": "code",
   "execution_count": 0,
   "metadata": {
    "application/vnd.databricks.v1+cell": {
     "cellMetadata": {
      "byteLimit": 2048000,
      "rowLimit": 10000
     },
     "inputWidgets": {},
     "nuid": "7e68fba3-f923-4d6e-a6c4-710e78ef6e01",
     "showTitle": false,
     "title": ""
    }
   },
   "outputs": [],
   "source": [
    "!python -m spacy download en_core_web_sm -q"
   ]
  },
  {
   "cell_type": "code",
   "execution_count": 0,
   "metadata": {
    "application/vnd.databricks.v1+cell": {
     "cellMetadata": {
      "byteLimit": 2048000,
      "rowLimit": 10000
     },
     "inputWidgets": {},
     "nuid": "abdbbfca-8b50-47fa-93ad-d74a76a9a271",
     "showTitle": false,
     "title": ""
    }
   },
   "outputs": [],
   "source": [
    "import spacy\n",
    "nlp = spacy.load(\"en_core_web_sm\")"
   ]
  },
  {
   "cell_type": "code",
   "execution_count": 0,
   "metadata": {
    "application/vnd.databricks.v1+cell": {
     "cellMetadata": {
      "byteLimit": 2048000,
      "rowLimit": 10000
     },
     "inputWidgets": {},
     "nuid": "d609d361-aeaa-41ae-852c-d8098174c2aa",
     "showTitle": true,
     "title": "Imports"
    }
   },
   "outputs": [],
   "source": [
    "import warnings\n",
    "\n",
    "warnings.filterwarnings(\"ignore\")\n",
    "\n",
    "import pandas as pd\n",
    "import json\n",
    "import plotly.express as px\n",
    "import contextlib\n",
    "\n",
    "from tqdm.autonotebook import tqdm\n",
    "from deltalake import DeltaTable\n",
    "from deltalake.exceptions import TableNotFoundError\n",
    "import pyarrow as pa\n",
    "from src.utils.io import FileSystemHandler, partition_dataframe\n",
    "from src.utils.schemas import all_the_news_raw_schema\n",
    "from src.utils.functions import (\n",
    "    assign_simple_topics_to_dataframe,\n",
    "    get_topics_for_section,\n",
    "    stop_words,\n",
    ")"
   ]
  },
  {
   "cell_type": "code",
   "execution_count": 0,
   "metadata": {
    "application/vnd.databricks.v1+cell": {
     "cellMetadata": {
      "byteLimit": 2048000,
      "rowLimit": 10000
     },
     "inputWidgets": {},
     "nuid": "6104de50-3a86-4162-b5b2-68acfd356d5a",
     "showTitle": true,
     "title": "Settings"
    }
   },
   "outputs": [],
   "source": [
    "pd.set_option(\"display.max_columns\", None)\n",
    "pd.set_option(\"display.max_info_rows\", None)\n",
    "pd.set_option(\"display.max_info_cols\", None)\n",
    "\n",
    "pd.options.plotting.backend = \"plotly\"\n",
    "\n",
    "tqdm.pandas()\n",
    "datafs = FileSystemHandler(\"s3\")\n",
    "\n",
    "with open(\"./section_to_topic_lexicon.json\", \"r\") as f:\n",
    "    simple_topic_lexicon: dict[str, list[str]] = json.load(f)"
   ]
  },
  {
   "cell_type": "code",
   "execution_count": 0,
   "metadata": {
    "application/vnd.databricks.v1+cell": {
     "cellMetadata": {
      "byteLimit": 2048000,
      "rowLimit": 10000
     },
     "inputWidgets": {},
     "nuid": "4e69c38f-1160-47cd-89b0-ce19aede374e",
     "showTitle": true,
     "title": "Input Parameters"
    }
   },
   "outputs": [],
   "source": [
    "LIMIT_PARTITIONS: int | None = None\n",
    "\"\"\"An input parameter to limit the number of table partitions to read from delta. Useful to perform EDA on a sample of data.\"\"\"\n",
    "\n",
    "SHUFFLE_PARTITIONS: bool = False\n",
    "\"\"\"Whether to randomize the partitions before reading\"\"\"\n",
    "\n",
    "INPUT_TABLE: str = \"all_the_news\" \n",
    "INPUT_CATALOG: str = \"text_eda\"\n",
    "OUTPUT_TABLE: str = \"all_the_news\"\n",
    "OUTPUT_CATALOG: str = \"simple_topic\""
   ]
  },
  {
   "cell_type": "markdown",
   "metadata": {
    "application/vnd.databricks.v1+cell": {
     "cellMetadata": {
      "byteLimit": 2048000,
      "rowLimit": 10000
     },
     "inputWidgets": {},
     "nuid": "ed1f4927-f345-497f-ac00-9274427a4740",
     "showTitle": false,
     "title": ""
    }
   },
   "source": [
    "\n",
    "### Read Data"
   ]
  },
  {
   "cell_type": "code",
   "execution_count": 0,
   "metadata": {
    "application/vnd.databricks.v1+cell": {
     "cellMetadata": {
      "byteLimit": 2048000,
      "rowLimit": 10000
     },
     "inputWidgets": {},
     "nuid": "86c7957e-8723-4a8f-9e60-7398cceda9df",
     "showTitle": true,
     "title": "Read Input Data"
    }
   },
   "outputs": [],
   "source": [
    "atn_delta_table: DeltaTable = datafs.read_delta(\n",
    "    table=INPUT_TABLE,\n",
    "    catalog_name=INPUT_CATALOG,\n",
    "    as_pandas=False,\n",
    ")\n",
    "\n",
    "df: pd.DataFrame = datafs.read_delta_partitions(\n",
    "    delta_table=atn_delta_table,\n",
    "    N_partitions=LIMIT_PARTITIONS,\n",
    "    shuffle_partitions=SHUFFLE_PARTITIONS,\n",
    ")"
   ]
  },
  {
   "cell_type": "code",
   "execution_count": 0,
   "metadata": {
    "application/vnd.databricks.v1+cell": {
     "cellMetadata": {
      "byteLimit": 2048000,
      "rowLimit": 10000
     },
     "inputWidgets": {},
     "nuid": "997aaf2a-d20a-4add-b841-cdc73a3aac39",
     "showTitle": false,
     "title": ""
    }
   },
   "outputs": [],
   "source": [
    "df[\"date\"] = pd.to_datetime(df[\"date\"])\n",
    "df = df.sort_values(by=[\"date\"])\n",
    "\n",
    "df = df.dropna(subset=[\"section\"])\n",
    "df[\"section\"] = df[\"section\"].dropna().str.title()\n",
    "\n",
    "print(df.shape)\n",
    "df.head()"
   ]
  },
  {
   "cell_type": "code",
   "execution_count": 0,
   "metadata": {
    "application/vnd.databricks.v1+cell": {
     "cellMetadata": {
      "byteLimit": 2048000,
      "rowLimit": 10000
     },
     "inputWidgets": {},
     "nuid": "f71b05d1-9608-487e-a4e3-b6d8ffafdbf6",
     "showTitle": true,
     "title": "Assign Opinions to Own Section"
    }
   },
   "outputs": [],
   "source": [
    "df.loc[\n",
    "    df.section.fillna(\"\").str.lower().apply(lambda cell: cell.startswith(\"opinion\")),\n",
    "    \"section\",\n",
    "] = \"Opinion\""
   ]
  },
  {
   "cell_type": "code",
   "execution_count": 0,
   "metadata": {
    "application/vnd.databricks.v1+cell": {
     "cellMetadata": {
      "byteLimit": 2048000,
      "rowLimit": 10000
     },
     "inputWidgets": {},
     "nuid": "2b043a9e-2eee-4fe7-9e17-c869a15b8623",
     "showTitle": true,
     "title": "Nullify Sections that have 1 article only"
    }
   },
   "outputs": [],
   "source": [
    "unique_section_counts: pd.Series = df[\"section\"].value_counts()\n",
    "sections_with_single_article: list[str] = unique_section_counts[\n",
    "    unique_section_counts == 1\n",
    "].index\n",
    "\n",
    "print(len(sections_with_single_article))\n",
    "\n",
    "df.loc[df.section.isin(sections_with_single_article), \"section\"] = None"
   ]
  },
  {
   "cell_type": "code",
   "execution_count": 0,
   "metadata": {
    "application/vnd.databricks.v1+cell": {
     "cellMetadata": {
      "byteLimit": 2048000,
      "rowLimit": 10000
     },
     "inputWidgets": {},
     "nuid": "56bd811a-ad5e-4e30-b7e5-be93f326ec28",
     "showTitle": true,
     "title": "Nullify Sections that have 1 article within each Year"
    }
   },
   "outputs": [],
   "source": [
    "for year in df.year.unique():\n",
    "    year_unique_section_counts = df[df.year == year][\"section\"].value_counts()\n",
    "    sections_with_single_article_in_year: list[str] = year_unique_section_counts[\n",
    "        year_unique_section_counts == 1\n",
    "    ].index\n",
    "    print(\n",
    "        f\"Year {year} has {len(sections_with_single_article_in_year)} single article sections, that will be nullified.\"\n",
    "    )\n",
    "    df.loc[\n",
    "        (df.section.isin(sections_with_single_article_in_year)) & (df.year == year),\n",
    "        \"section\",\n",
    "    ] = None"
   ]
  },
  {
   "cell_type": "code",
   "execution_count": 0,
   "metadata": {
    "application/vnd.databricks.v1+cell": {
     "cellMetadata": {
      "byteLimit": 2048000,
      "rowLimit": 10000
     },
     "inputWidgets": {},
     "nuid": "c194cf33-c5f7-4779-b5e7-79c3a14ea6a1",
     "showTitle": false,
     "title": ""
    }
   },
   "outputs": [],
   "source": [
    "df = df.dropna(subset=[\"section\"])"
   ]
  },
  {
   "cell_type": "code",
   "execution_count": 0,
   "metadata": {
    "application/vnd.databricks.v1+cell": {
     "cellMetadata": {
      "byteLimit": 2048000,
      "rowLimit": 10000
     },
     "inputWidgets": {},
     "nuid": "8fed03df-2c23-4a7f-9173-14212d608a87",
     "showTitle": false,
     "title": ""
    }
   },
   "outputs": [],
   "source": [
    "def is_geographical_entity(text: str) -> bool:\n",
    "    \"\"\"Uses NER to check if a string is a geographical entity (country or place)\"\"\"\n",
    "    doc = nlp(text)\n",
    "    gpe_entities = [ent.text for ent in doc.ents if ent.label_ in (\"GPE\", \"LOC\")]\n",
    "    return bool(gpe_entities)\n",
    "\n",
    "\n",
    "section_df = df[\"section\"].drop_duplicates().to_frame().reset_index(drop=True)\n",
    "section_df[\"geo\"] = section_df[\"section\"].apply(is_geographical_entity)\n",
    "section_df = section_df.set_index(\"section\")\n",
    "geo_section_mapping: dict[str, bool] = section_df.to_dict()[\"geo\"]\n",
    "tuple(geo_section_mapping.items())[0:5]"
   ]
  },
  {
   "cell_type": "code",
   "execution_count": 0,
   "metadata": {
    "application/vnd.databricks.v1+cell": {
     "cellMetadata": {
      "byteLimit": 2048000,
      "rowLimit": 10000
     },
     "inputWidgets": {},
     "nuid": "e7598c6b-2c71-4861-9c30-c8bd69895e7f",
     "showTitle": false,
     "title": ""
    }
   },
   "outputs": [],
   "source": [
    "df[\"is_geo\"] = df[\"section\"].map(geo_section_mapping)\n",
    "df.is_geo.value_counts()"
   ]
  },
  {
   "cell_type": "code",
   "execution_count": 0,
   "metadata": {
    "application/vnd.databricks.v1+cell": {
     "cellMetadata": {
      "byteLimit": 2048000,
      "rowLimit": 10000
     },
     "inputWidgets": {},
     "nuid": "e9bbcc8c-3d20-42bd-bb94-702ae3605f43",
     "showTitle": false,
     "title": ""
    }
   },
   "outputs": [],
   "source": [
    "non_geo_sections = df[~df.is_geo].section.value_counts()\n",
    "non_geo_sections.head()"
   ]
  },
  {
   "cell_type": "markdown",
   "metadata": {
    "application/vnd.databricks.v1+cell": {
     "cellMetadata": {
      "byteLimit": 2048000,
      "rowLimit": 10000
     },
     "inputWidgets": {},
     "nuid": "1934c62f-46bf-4c75-95e9-388870f1dc30",
     "showTitle": false,
     "title": ""
    }
   },
   "source": [
    "\n",
    "## Section Coalescing\n",
    "\n",
    "[Wikipedia](https://en.wikipedia.org/wiki/Portal:Current_events)\n",
    "\n",
    "* Assign geographic information per article\n",
    "* Define a main topic / section lexicon, and consider making it hierarchical. All other sections will be mapped to this main list.\n",
    "* Normalize & Coalesce similar sections between publications\n",
    "* Use unsupervised learning / clustering for imputation\n",
    "* Re-distribute or impute `World News`and other generic sections\n",
    "* Use unsupervised learning / clustering for imputation"
   ]
  },
  {
   "cell_type": "code",
   "execution_count": 0,
   "metadata": {
    "application/vnd.databricks.v1+cell": {
     "cellMetadata": {
      "byteLimit": 2048000,
      "rowLimit": 10000
     },
     "inputWidgets": {},
     "nuid": "8bacf061-a90b-43a5-afb2-8ec5ec41fe13",
     "showTitle": false,
     "title": ""
    }
   },
   "outputs": [],
   "source": [
    "df_y = df.copy()\n",
    "df_y = df_y.dropna(subset=[\"section\"])\n",
    "print(df_y.shape)\n",
    "df_y.head()"
   ]
  },
  {
   "cell_type": "code",
   "execution_count": 0,
   "metadata": {
    "application/vnd.databricks.v1+cell": {
     "cellMetadata": {
      "byteLimit": 2048000,
      "rowLimit": 10000
     },
     "inputWidgets": {},
     "nuid": "39766a76-5035-43f6-8c29-e69fc92a0f0b",
     "showTitle": false,
     "title": ""
    }
   },
   "outputs": [],
   "source": [
    "df_y, section_df = assign_simple_topics_to_dataframe(\n",
    "    df_y, simple_topic_lexicon=simple_topic_lexicon\n",
    ")\n",
    "print(section_df[\"simple_topic\"].info())\n",
    "section_df.head()"
   ]
  },
  {
   "cell_type": "code",
   "execution_count": 0,
   "metadata": {
    "application/vnd.databricks.v1+cell": {
     "cellMetadata": {
      "byteLimit": 2048000,
      "rowLimit": 10000
     },
     "inputWidgets": {},
     "nuid": "e1c8c1f3-87d1-4c7e-ab83-aeb33de11d2f",
     "showTitle": false,
     "title": ""
    }
   },
   "outputs": [],
   "source": [
    "print(df_y[[\"section\", \"simple_topic\"]].info())\n",
    "df_y[[\"section\", \"simple_topic\", \"title\"]].head()"
   ]
  },
  {
   "cell_type": "code",
   "execution_count": 0,
   "metadata": {
    "application/vnd.databricks.v1+cell": {
     "cellMetadata": {
      "byteLimit": 2048000,
      "rowLimit": 10000
     },
     "inputWidgets": {},
     "nuid": "b42d95e9-1f91-411b-9f3c-a189f1845422",
     "showTitle": false,
     "title": ""
    }
   },
   "outputs": [],
   "source": [
    "section_df[section_df.simple_topic.isna()][\n",
    "    [\"section\", \"article_count\", \"section_clean\"]\n",
    "].iloc[50:60]"
   ]
  },
  {
   "cell_type": "code",
   "execution_count": 0,
   "metadata": {
    "application/vnd.databricks.v1+cell": {
     "cellMetadata": {
      "byteLimit": 2048000,
      "rowLimit": 10000
     },
     "inputWidgets": {},
     "nuid": "6b969497-40b2-4842-93cf-849b3afe0202",
     "showTitle": false,
     "title": ""
    }
   },
   "outputs": [],
   "source": [
    "section_df.groupby([\"simple_topic\"])[\"section\"].count().sort_values(\n",
    "    ascending=False\n",
    ").plot(\n",
    "    kind=\"bar\",\n",
    "    template=\"plotly_white\",\n",
    "    title=\"Section Capture per Mapped Simple Topic\",\n",
    ")"
   ]
  },
  {
   "cell_type": "code",
   "execution_count": 0,
   "metadata": {
    "application/vnd.databricks.v1+cell": {
     "cellMetadata": {
      "byteLimit": 2048000,
      "rowLimit": 10000
     },
     "inputWidgets": {},
     "nuid": "783df0d9-b980-4b43-b87c-55b825990142",
     "showTitle": false,
     "title": ""
    }
   },
   "outputs": [],
   "source": [
    "section_df[section_df.simple_topic == \"Sports\"].sample(5)"
   ]
  },
  {
   "cell_type": "code",
   "execution_count": 0,
   "metadata": {
    "application/vnd.databricks.v1+cell": {
     "cellMetadata": {
      "byteLimit": 2048000,
      "rowLimit": 10000
     },
     "inputWidgets": {},
     "nuid": "5dd8d297-87d1-4127-9b47-8fc2f014fa6c",
     "showTitle": false,
     "title": ""
    }
   },
   "outputs": [],
   "source": [
    "section_dist = section_df[[\"simple_topic\", \"section\", \"article_count\"]].dropna(\n",
    "    subset=[\"simple_topic\"]\n",
    ")\n",
    "\n",
    "section_dist_fig = px.bar(\n",
    "    section_dist,\n",
    "    x=\"simple_topic\",\n",
    "    y=\"article_count\",\n",
    "    color=\"section\",\n",
    "    title=\"Section Distributions per Topic across Article Counts\",\n",
    "    template=\"plotly_white\",\n",
    ")\n",
    "\n",
    "section_dist_fig.show()"
   ]
  },
  {
   "cell_type": "code",
   "execution_count": 0,
   "metadata": {
    "application/vnd.databricks.v1+cell": {
     "cellMetadata": {
      "byteLimit": 2048000,
      "rowLimit": 10000
     },
     "inputWidgets": {},
     "nuid": "1bed1767-2079-439a-ac10-7be8d9c4ee3d",
     "showTitle": false,
     "title": ""
    }
   },
   "outputs": [],
   "source": [
    "df_y = df_y.dropna(subset=['simple_topic'])\n",
    "print(df_y.shape)\n",
    "df_y.head()"
   ]
  },
  {
   "cell_type": "code",
   "execution_count": 0,
   "metadata": {
    "application/vnd.databricks.v1+cell": {
     "cellMetadata": {
      "byteLimit": 2048000,
      "rowLimit": 10000
     },
     "inputWidgets": {},
     "nuid": "64188bc1-3d4c-42fc-890c-2b392b269ba5",
     "showTitle": false,
     "title": ""
    }
   },
   "outputs": [],
   "source": [
    "new_pub_dist = df_y.publication.value_counts(normalize=True)\n",
    "old_pub_dist = df.publication.value_counts(normalize=True)\n",
    "\n",
    "pub_dist_df = pd.DataFrame()\n",
    "pub_dist_df.index = old_pub_dist.index\n",
    "pub_dist_df[\"old_pub_ratio\"] = old_pub_dist * 100\n",
    "pub_dist_df[\"new_pub_ratio\"] = new_pub_dist * 100\n",
    "pub_dist_df[\"ratio_pp\"] = pub_dist_df[\"new_pub_ratio\"] - pub_dist_df[\"old_pub_ratio\"]\n",
    "\n",
    "pub_dist_df = pub_dist_df.sort_values(by=[\"ratio_pp\"])\n",
    "\n",
    "print(pub_dist_df.shape)\n",
    "\n",
    "print(\n",
    "    \"Standard Deviation of Publication Representaton Percentage Points\",\n",
    "    round(pub_dist_df[\"ratio_pp\"].std(), 2),\n",
    ")\n",
    "\n",
    "pub_dist_df.transpose().round(2)"
   ]
  },
  {
   "cell_type": "code",
   "execution_count": 0,
   "metadata": {
    "application/vnd.databricks.v1+cell": {
     "cellMetadata": {
      "byteLimit": 2048000,
      "rowLimit": 10000
     },
     "inputWidgets": {},
     "nuid": "70bb3a4f-0f47-4056-b0db-b139083b4d8c",
     "showTitle": false,
     "title": ""
    }
   },
   "outputs": [],
   "source": [
    "with contextlib.suppress(TableNotFoundError):\n",
    "    \"\"\"if table already doesn't exist, then ignore\"\"\"\n",
    "    print(datafs.clear_delta(table=OUTPUT_TABLE, catalog_name=OUTPUT_CATALOG))"
   ]
  },
  {
   "cell_type": "code",
   "execution_count": 0,
   "metadata": {
    "application/vnd.databricks.v1+cell": {
     "cellMetadata": {
      "byteLimit": 2048000,
      "rowLimit": 10000
     },
     "inputWidgets": {},
     "nuid": "56bb7dfe-9c88-47d2-b6de-89e1263155d1",
     "showTitle": false,
     "title": ""
    }
   },
   "outputs": [],
   "source": [
    "new_text_fields: list[pa.field] = [\n",
    "    pa.field(\"title_word_count\", pa.int64()),\n",
    "    pa.field(\"article_word_count\", pa.int64()),\n",
    "    pa.field(\"title_textblob_sentiment\", pa.float64()),\n",
    "    pa.field(\"article_textblob_sentiment\", pa.float64()),\n",
    "    pa.field(\"vader_prob_positive_title\", pa.float64()),\n",
    "    pa.field(\"vader_prob_negative_title\", pa.float64()),\n",
    "    pa.field(\"vader_prob_neutral_title\", pa.float64()),\n",
    "    pa.field(\"vader_compound_title\", pa.float64()),\n",
    "    pa.field(\"is_geo\", pa.bool_()),\n",
    "    pa.field(\"simple_topic\", pa.string()),\n",
    "]\n",
    "\n",
    "all_the_news_simple_topic_schema = all_the_news_raw_schema\n",
    "\n",
    "for new_field in new_text_fields:\n",
    "    all_the_news_simple_topic_schema = all_the_news_simple_topic_schema.append(new_field)\n",
    "\n",
    "all_the_news_simple_topic_schema"
   ]
  },
  {
   "cell_type": "code",
   "execution_count": 0,
   "metadata": {
    "application/vnd.databricks.v1+cell": {
     "cellMetadata": {
      "byteLimit": 2048000,
      "rowLimit": 10000
     },
     "inputWidgets": {},
     "nuid": "55509892-ef6c-456d-b040-47a0c269f852",
     "showTitle": false,
     "title": ""
    }
   },
   "outputs": [],
   "source": [
    "df_partitions: list[pd.DataFrame] = partition_dataframe(df_y, N_Partitions=25)\n",
    "\n",
    "for p_df in tqdm(df_partitions):\n",
    "    datafs.write_delta(\n",
    "        dataframe=p_df,\n",
    "        table=OUTPUT_TABLE,\n",
    "        catalog_name=OUTPUT_CATALOG,\n",
    "        schema=all_the_news_simple_topic_schema,\n",
    "    )"
   ]
  },
  {
   "cell_type": "code",
   "execution_count": 0,
   "metadata": {
    "application/vnd.databricks.v1+cell": {
     "cellMetadata": {},
     "inputWidgets": {},
     "nuid": "4665fd00-b769-4024-8597-b6fc3435043e",
     "showTitle": false,
     "title": ""
    }
   },
   "outputs": [],
   "source": []
  }
 ],
 "metadata": {
  "application/vnd.databricks.v1+notebook": {
   "dashboards": [],
   "language": "python",
   "notebookMetadata": {
    "pythonIndentUnit": 4
   },
   "notebookName": "topic_processor",
   "widgets": {}
  }
 },
 "nbformat": 4,
 "nbformat_minor": 0
}
