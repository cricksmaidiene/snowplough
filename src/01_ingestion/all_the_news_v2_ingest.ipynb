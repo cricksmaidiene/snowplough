{
 "cells": [
  {
   "cell_type": "markdown",
   "metadata": {
    "application/vnd.databricks.v1+cell": {
     "cellMetadata": {
      "byteLimit": 2048000,
      "rowLimit": 10000
     },
     "inputWidgets": {},
     "nuid": "d17a7985-38c3-49cb-8e47-6d05c95df23a",
     "showTitle": false,
     "title": ""
    }
   },
   "source": [
    "\n",
    "# All The News v2.0 📰\n",
    "\n",
    "[All The News (ATN) 2.0](https://components.one/datasets/all-the-news-2-news-articles-dataset) is a 2.7M row large dataset of news articles from a number of publications. It spawned from [ATN v1.0](https://www.kaggle.com/datasets/snapcrack/all-the-news/data), a famous kaggle challenge for sentiment analysis and topic modeling. \n",
    "\n",
    "\n",
    "* The file is available as a dropbox link, and with the parameter set to `?dl=1`, we can download the dataset programatically.\n",
    "* Input Filetype is `CSV` and saved as `Delta Lake`\n",
    "* Since the input CSV is quite large, it is read in chunks and stored as partitions\n",
    "\n",
    "#### Notebook Properties\n",
    "* Upstream Notebook: N/A\n",
    "* Compute Resources: `16 GB RAM, 2 CPUs`\n",
    "* Last Updated: `Nov 21 2023`"
   ]
  },
  {
   "cell_type": "code",
   "execution_count": 0,
   "metadata": {
    "application/vnd.databricks.v1+cell": {
     "cellMetadata": {
      "byteLimit": 2048000,
      "rowLimit": 10000
     },
     "inputWidgets": {},
     "nuid": "c74754b9-709e-4543-91d5-bf478ab1f10f",
     "showTitle": true,
     "title": "Imports"
    }
   },
   "outputs": [],
   "source": [
    "import warnings\n",
    "\n",
    "warnings.filterwarnings(\"ignore\")\n",
    "\n",
    "import os\n",
    "import json\n",
    "import contextlib\n",
    "import pandas as pd\n",
    "import pyarrow as pa\n",
    "import numpy as np\n",
    "from tqdm.autonotebook import tqdm\n",
    "\n",
    "from src.utils.io import FileSystemHandler\n",
    "from src.utils.schemas import all_the_news_raw_schema\n",
    "\n",
    "from deltalake import DeltaTable\n",
    "from deltalake.exceptions import TableNotFoundError"
   ]
  },
  {
   "cell_type": "code",
   "execution_count": 0,
   "metadata": {
    "application/vnd.databricks.v1+cell": {
     "cellMetadata": {
      "byteLimit": 2048000,
      "rowLimit": 10000
     },
     "inputWidgets": {},
     "nuid": "7ab6e80b-3673-481e-89f0-6453c2fb9112",
     "showTitle": true,
     "title": "Settings"
    }
   },
   "outputs": [],
   "source": [
    "pd.set_option(\"display.max_columns\", None)\n",
    "\n",
    "read_chunk_size: int = 50_000\n",
    "\"\"\"Read and save partitions of 50k articles from csv to delta\"\"\"\n",
    "\n",
    "dataset_size: int = 2_700_000\n",
    "\"\"\"Total estimated size of ATN v2 dataset\"\"\"\n",
    "\n",
    "TABLE_NAME: str = \"all_the_news\"\n",
    "\"\"\"The name of the delta table to save the output dataset\"\"\"\n",
    "CATALOG_NAME: str = \"raw\"\n",
    "\"\"\"A catalog / schema name to store the table\"\"\"\n",
    "\n",
    "datafs = FileSystemHandler(\"s3\")\n",
    "\"\"\"A file system handler that uses local or s3 storage to save delta tables\"\"\"\n",
    "\n",
    "SITE_URL: str = \"https://components.one/datasets/all-the-news-2-news-articles-dataset\"\n",
    "DOWNLOAD_URL: str = \"https://www.dropbox.com/s/cn2utnr5ipathhh/all-the-news-2-1.zip?dl=1\""
   ]
  },
  {
   "cell_type": "markdown",
   "metadata": {
    "application/vnd.databricks.v1+cell": {
     "cellMetadata": {
      "byteLimit": 2048000,
      "rowLimit": 10000
     },
     "inputWidgets": {},
     "nuid": "15948ff5-65e3-406f-a4af-45e7328957f0",
     "showTitle": false,
     "title": ""
    }
   },
   "source": [
    "\n",
    "Remove Table if Exists"
   ]
  },
  {
   "cell_type": "code",
   "execution_count": 0,
   "metadata": {
    "application/vnd.databricks.v1+cell": {
     "cellMetadata": {
      "byteLimit": 2048000,
      "rowLimit": 10000
     },
     "inputWidgets": {},
     "nuid": "7ae39b7c-1876-4bd4-ab67-31b4854f9efb",
     "showTitle": false,
     "title": ""
    }
   },
   "outputs": [],
   "source": [
    "with contextlib.suppress(TableNotFoundError):\n",
    "    # if table already doesn't exist, then ignore\n",
    "    print(datafs.clear_delta(table=TABLE_NAME, catalog_name=CATALOG_NAME))"
   ]
  },
  {
   "cell_type": "markdown",
   "metadata": {
    "application/vnd.databricks.v1+cell": {
     "cellMetadata": {
      "byteLimit": 2048000,
      "rowLimit": 10000
     },
     "inputWidgets": {},
     "nuid": "f8640e30-1e51-4fdf-8661-67826b731583",
     "showTitle": false,
     "title": ""
    }
   },
   "source": [
    "\n",
    "## Data Import"
   ]
  },
  {
   "cell_type": "code",
   "execution_count": 0,
   "metadata": {
    "application/vnd.databricks.v1+cell": {
     "cellMetadata": {
      "byteLimit": 2048000,
      "rowLimit": 10000
     },
     "inputWidgets": {},
     "nuid": "8b9f46a7-b603-49f3-bee1-68d89d75d96d",
     "showTitle": true,
     "title": "Read CSV in Chunks"
    }
   },
   "outputs": [],
   "source": [
    "chunks: pd.io.parsers.readers.TextFileReader = pd.read_csv(\n",
    "    DOWNLOAD_URL,\n",
    "    compression=\"zip\",\n",
    "    encoding=\"utf-8\",\n",
    "    sep=\",\",\n",
    "    quotechar='\"',\n",
    "    chunksize=read_chunk_size,\n",
    ")"
   ]
  },
  {
   "cell_type": "code",
   "execution_count": 0,
   "metadata": {
    "application/vnd.databricks.v1+cell": {
     "cellMetadata": {
      "byteLimit": 2048000,
      "rowLimit": 10000
     },
     "inputWidgets": {},
     "nuid": "aab9184a-c203-4e99-b3a3-0966bdfaf126",
     "showTitle": true,
     "title": "Declare Chunk Processor"
    }
   },
   "outputs": [],
   "source": [
    "def preprocess_chunk(chunk_df: pd.DataFrame) -> pd.DataFrame:\n",
    "    \"\"\"Fix types and nulls in chunk read from CSV.\"\"\"\n",
    "    for col in chunk_df.columns:\n",
    "        chunk_df[col] = (\n",
    "            chunk_df[col]\n",
    "            .dropna()\n",
    "            .apply(\n",
    "                lambda cell: None\n",
    "                if isinstance(cell, str)\n",
    "                and (cell.lower() == \"nan\" or cell.lower() == \"none\")\n",
    "                else cell\n",
    "            )\n",
    "        )\n",
    "\n",
    "    chunk_df = chunk_df.replace([np.nan], [None])\n",
    "    chunk_df[\"date\"] = pd.to_datetime(chunk_df[\"date\"])\n",
    "\n",
    "    return chunk_df"
   ]
  },
  {
   "cell_type": "code",
   "execution_count": 0,
   "metadata": {
    "application/vnd.databricks.v1+cell": {
     "cellMetadata": {
      "byteLimit": 2048000,
      "rowLimit": 10000
     },
     "inputWidgets": {},
     "nuid": "17edfbed-04dc-4f1b-a743-072098dab059",
     "showTitle": true,
     "title": "Save CSV Chunks to Delta"
    }
   },
   "outputs": [],
   "source": [
    "for chunk_df in tqdm(chunks, total=dataset_size // read_chunk_size):\n",
    "    chunk_df = preprocess_chunk(chunk_df)\n",
    "    datafs.write_delta(\n",
    "        dataframe=chunk_df,\n",
    "        table=TABLE_NAME,\n",
    "        catalog_name=CATALOG_NAME,\n",
    "        schema=all_the_news_raw_schema,\n",
    "        mode=\"append\",\n",
    "    )"
   ]
  },
  {
   "cell_type": "markdown",
   "metadata": {
    "application/vnd.databricks.v1+cell": {
     "cellMetadata": {
      "byteLimit": 2048000,
      "rowLimit": 10000
     },
     "inputWidgets": {},
     "nuid": "b14fc386-7b6b-4565-b055-02a53c796988",
     "showTitle": false,
     "title": ""
    }
   },
   "source": [
    "\n",
    "## Test Ingested Data"
   ]
  },
  {
   "cell_type": "code",
   "execution_count": 0,
   "metadata": {
    "application/vnd.databricks.v1+cell": {
     "cellMetadata": {
      "byteLimit": 2048000,
      "rowLimit": 10000
     },
     "inputWidgets": {},
     "nuid": "ed64686b-e039-4a85-a296-02c1bc86ba02",
     "showTitle": false,
     "title": ""
    }
   },
   "outputs": [],
   "source": [
    "# reinitialize delta table\n",
    "atn_delta_table: DeltaTable = DeltaTable(f\"{datafs.CATALOG}/{CATALOG_NAME}/{TABLE_NAME}.delta\")"
   ]
  },
  {
   "cell_type": "code",
   "execution_count": 0,
   "metadata": {
    "application/vnd.databricks.v1+cell": {
     "cellMetadata": {
      "byteLimit": 2048000,
      "rowLimit": 10000
     },
     "inputWidgets": {},
     "nuid": "61ce83dd-aef7-4b78-88a2-e6a762359a12",
     "showTitle": true,
     "title": "Test Schema"
    }
   },
   "outputs": [],
   "source": [
    "pd.DataFrame(json.loads(atn_delta_table.schema().to_json())[\"fields\"])"
   ]
  },
  {
   "cell_type": "code",
   "execution_count": 0,
   "metadata": {
    "application/vnd.databricks.v1+cell": {
     "cellMetadata": {
      "byteLimit": 2048000,
      "rowLimit": 10000
     },
     "inputWidgets": {},
     "nuid": "70670d69-da84-4f33-8967-4fc4e6500693",
     "showTitle": true,
     "title": "View Data"
    }
   },
   "outputs": [],
   "source": [
    "atn_partitions: list[str] = atn_delta_table.file_uris()\n",
    "\n",
    "atn_df: pd.DataFrame = pd.read_parquet(atn_partitions[-1])\n",
    "print(atn_df.shape)\n",
    "atn_df.head()"
   ]
  },
  {
   "cell_type": "code",
   "execution_count": 0,
   "metadata": {
    "application/vnd.databricks.v1+cell": {
     "cellMetadata": {
      "byteLimit": 2048000,
      "rowLimit": 10000
     },
     "inputWidgets": {},
     "nuid": "ea442730-95b5-4784-8621-866b4ae3a6c4",
     "showTitle": false,
     "title": ""
    }
   },
   "outputs": [],
   "source": [
    "atn_df.info()"
   ]
  },
  {
   "cell_type": "code",
   "execution_count": 0,
   "metadata": {
    "application/vnd.databricks.v1+cell": {
     "cellMetadata": {
      "byteLimit": 2048000,
      "rowLimit": 10000
     },
     "inputWidgets": {},
     "nuid": "53df6830-b503-42b2-8371-5b4c96e63108",
     "showTitle": false,
     "title": ""
    }
   },
   "outputs": [],
   "source": []
  }
 ],
 "metadata": {
  "application/vnd.databricks.v1+notebook": {
   "dashboards": [],
   "language": "python",
   "notebookMetadata": {
    "mostRecentlyExecutedCommandWithImplicitDF": {
     "commandId": -1,
     "dataframes": [
      "_sqldf"
     ]
    },
    "pythonIndentUnit": 4
   },
   "notebookName": "all_the_news_v2_ingest",
   "widgets": {}
  }
 },
 "nbformat": 4,
 "nbformat_minor": 0
}
